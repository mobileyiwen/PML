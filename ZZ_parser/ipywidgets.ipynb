{
 "cells": [
  {
   "cell_type": "code",
   "execution_count": 1,
   "metadata": {
    "collapsed": true
   },
   "outputs": [],
   "source": [
    "import json\n",
    "filename = 'avIDResult.json'    \n",
    "f = open(filename, 'r')\n",
    "avIDs = json.load(f)\n",
    "f.close()"
   ]
  },
  {
   "cell_type": "code",
   "execution_count": 3,
   "metadata": {},
   "outputs": [
    {
     "ename": "KeyError",
     "evalue": "'SGA-081'",
     "output_type": "error",
     "traceback": [
      "\u001b[0;31m---------------------------------------------------------------------------\u001b[0m",
      "\u001b[0;31mKeyError\u001b[0m                                  Traceback (most recent call last)",
      "\u001b[0;32m<ipython-input-3-2cd3c213f5be>\u001b[0m in \u001b[0;36m<module>\u001b[0;34m()\u001b[0m\n\u001b[0;32m----> 1\u001b[0;31m \u001b[0mavIDs\u001b[0m\u001b[0;34m[\u001b[0m\u001b[0;34m'SGA-081'\u001b[0m\u001b[0;34m]\u001b[0m\u001b[0;34m\u001b[0m\u001b[0m\n\u001b[0m",
      "\u001b[0;31mKeyError\u001b[0m: 'SGA-081'"
     ]
    }
   ],
   "source": [
    "avIDs['SGA-081']"
   ]
  },
  {
   "cell_type": "code",
   "execution_count": 4,
   "metadata": {
    "collapsed": true
   },
   "outputs": [],
   "source": [
    "import ipywidgets as widgets"
   ]
  },
  {
   "cell_type": "code",
   "execution_count": 5,
   "metadata": {
    "collapsed": true
   },
   "outputs": [],
   "source": [
    "from ipywidgets import interact, interact_manual, fixed"
   ]
  },
  {
   "cell_type": "code",
   "execution_count": 7,
   "metadata": {
    "collapsed": true
   },
   "outputs": [],
   "source": [
    "from random import choice\n",
    "def lang():\n",
    "    langSelect = ['English', '中文', 'Espanol', \"Italiano\", 'Deustche']\n",
    "    print(choice(langSelect))"
   ]
  },
  {
   "cell_type": "code",
   "execution_count": 9,
   "metadata": {},
   "outputs": [
    {
     "name": "stdout",
     "output_type": "stream",
     "text": [
      "Italiano\n"
     ]
    }
   ],
   "source": [
    "lang()"
   ]
  },
  {
   "cell_type": "code",
   "execution_count": 11,
   "metadata": {},
   "outputs": [
    {
     "name": "stdout",
     "output_type": "stream",
     "text": [
      "Deustche\n"
     ]
    }
   ],
   "source": [
    "interact_manual(lang), interact_manual(lang)"
   ]
  },
  {
   "cell_type": "code",
   "execution_count": 17,
   "metadata": {
    "collapsed": true
   },
   "outputs": [],
   "source": [
    "count = 0\n",
    "def reset():\n",
    "    count = 0\n",
    "    print(count)\n",
    "def add():\n",
    "    count+=1\n",
    "    print(count)\n",
    "def sub():\n",
    "    count-=1\n",
    "    print(count)\n"
   ]
  },
  {
   "cell_type": "code",
   "execution_count": 18,
   "metadata": {},
   "outputs": [
    {
     "data": {
      "text/plain": [
       "(<function __main__.reset>, <function __main__.add>, <function __main__.sub>)"
      ]
     },
     "execution_count": 18,
     "metadata": {},
     "output_type": "execute_result"
    }
   ],
   "source": [
    "interact_manual(reset), interact_manual(add), interact_manual(sub)"
   ]
  },
  {
   "cell_type": "code",
   "execution_count": 21,
   "metadata": {},
   "outputs": [],
   "source": [
    "def f(x):\n",
    "    return 5*x"
   ]
  },
  {
   "cell_type": "code",
   "execution_count": 23,
   "metadata": {},
   "outputs": [
    {
     "data": {
      "text/plain": [
       "'Hi thereasdHi thereasdHi thereasdHi thereasdHi thereasd'"
      ]
     },
     "metadata": {},
     "output_type": "display_data"
    }
   ],
   "source": [
    "interact(f, x='Hi there!')"
   ]
  },
  {
   "cell_type": "code",
   "execution_count": 85,
   "metadata": {},
   "outputs": [],
   "source": [
    "from IPython.display import display\n",
    "from ipywidgets import Layout, Button\n",
    "\n",
    "g_123 = \"I am 123\"\n",
    "lista = [\"One\", \"Two\", 'Three', 'Four', 'Five']\n",
    "idx = 0\n",
    "\n",
    "button1 = widgets.Button(\n",
    "    description=bDescription,\n",
    "    disabled=False,\n",
    "    button_style='', # 'success', 'info', 'warning', 'danger' or ''\n",
    "    tooltip='Click me',\n",
    "    icon='check'\n",
    ")\n",
    "\n",
    "button2 = widgets.Button(\n",
    "    description='2nd Click me',\n",
    "    disabled=False,\n",
    "    button_style='', # 'success', 'info', 'warning', 'danger' or ''\n",
    "    tooltip='Click me',\n",
    "    icon='check'\n",
    ")\n",
    "\n",
    "outputText = widgets.Text(layout=Layout(width='800px', height='100px'))\n",
    "outputText2 = widgets.Text(layout=Layout(width='800px', height='100px'))\n",
    "\n",
    "outputText2.value = \"e4bb> in on_button_clicked2(b\"\n",
    "\n",
    "display(button1, button2, outputText, outputText2)\n",
    "\n",
    "def inc():\n",
    "    idx+=1\n",
    "    print (idx)\n",
    "\n",
    "def on_button_clicked1(b):\n",
    "    global idx   \n",
    "    outputText.value = \"Button1 clicked. global string {0}, list content {1}\".format(g_123, lista[idx])\n",
    "    idx+=1\n",
    "    \n",
    "def on_button_clicked2(b):\n",
    "    outputText.value = outputText2.value\n",
    "\n",
    "button1.on_click(on_button_clicked1)\n",
    "button2.on_click(on_button_clicked2)\n"
   ]
  },
  {
   "cell_type": "code",
   "execution_count": 78,
   "metadata": {
    "collapsed": true
   },
   "outputs": [],
   "source": [
    "idx = 5"
   ]
  },
  {
   "cell_type": "code",
   "execution_count": 57,
   "metadata": {},
   "outputs": [],
   "source": [
    "b = Button(description='(50% width, 80px height) button',\n",
    "           layout=Layout(width='50%', height='80px'))\n",
    "b"
   ]
  },
  {
   "cell_type": "code",
   "execution_count": 60,
   "metadata": {},
   "outputs": [],
   "source": [
    "\n",
    "from ipywidgets import Layout, Button, Box, VBox, Label\n",
    "\n",
    "item_layout = Layout(height='100px', min_width='40px')\n",
    "items = [Button(layout=item_layout, description=str(i), button_style='warning') for i in range(40)]\n",
    "box_layout = Layout(overflow_x='scroll',\n",
    "                    border='3px solid black',\n",
    "                    width='500px',\n",
    "                    height='',\n",
    "                    flex_direction='row',\n",
    "                    display='flex')\n",
    "carousel = Box(children=items, layout=box_layout)\n",
    "VBox([Label('Scroll horizontally:'), carousel])"
   ]
  },
  {
   "cell_type": "code",
   "execution_count": null,
   "metadata": {
    "collapsed": true
   },
   "outputs": [],
   "source": []
  }
 ],
 "metadata": {
  "kernelspec": {
   "display_name": "Python 3",
   "language": "python",
   "name": "python3"
  },
  "language_info": {
   "codemirror_mode": {
    "name": "ipython",
    "version": 3
   },
   "file_extension": ".py",
   "mimetype": "text/x-python",
   "name": "python",
   "nbconvert_exporter": "python",
   "pygments_lexer": "ipython3",
   "version": "3.6.0"
  },
  "widgets": {
   "state": {
    "047066be8f6c457ab0366b9f3f2f4234": {
     "views": [
      {
       "cell_index": 11
      }
     ]
    },
    "0b251e0e31384fa39ee7746f855fdc42": {
     "views": [
      {
       "cell_index": 11
      }
     ]
    },
    "13d39101fc2e42e3ad5c22a9f2157c9c": {
     "views": [
      {
       "cell_index": 11
      }
     ]
    },
    "160623609e13478a87a62e3a58c30042": {
     "views": [
      {
       "cell_index": 11
      }
     ]
    },
    "1a46f64404064fdd92bc22f429e3d8fa": {
     "views": [
      {
       "cell_index": 13
      }
     ]
    },
    "1acd782f5db049df96c2c4571dc0b203": {
     "views": [
      {
       "cell_index": 11
      }
     ]
    },
    "236eae0475da4f83b72dd27b9cffaff9": {
     "views": [
      {
       "cell_index": 11
      }
     ]
    },
    "27786d442e524de981e4a09d703c13e9": {
     "views": [
      {
       "cell_index": 11
      }
     ]
    },
    "2b779ae8867b4094b10fc7ce8d23f7a4": {
     "views": [
      {
       "cell_index": 8
      }
     ]
    },
    "2d702b1d4d074942b356f6a132661011": {
     "views": [
      {
       "cell_index": 11
      }
     ]
    },
    "2d9e798cea424886ade23414f0529651": {
     "views": [
      {
       "cell_index": 6
      }
     ]
    },
    "32e0377bb8ef46d79fbc05cbdb3e145e": {
     "views": [
      {
       "cell_index": 11
      }
     ]
    },
    "4178b4f74c4548f79b3608a1f17eeb40": {
     "views": [
      {
       "cell_index": 11
      }
     ]
    },
    "4426a44b75dc491aa6bee5b760911330": {
     "views": [
      {
       "cell_index": 11
      }
     ]
    },
    "452996405ee1437585f9fccf2e324202": {
     "views": [
      {
       "cell_index": 11
      }
     ]
    },
    "4c49545e228c4c96a3715d85ce090e79": {
     "views": [
      {
       "cell_index": 11
      }
     ]
    },
    "50c0759045224793b1dc1e903eaefba7": {
     "views": [
      {
       "cell_index": 11
      }
     ]
    },
    "57a0cb7bb0f94020ab4601ad64c7449a": {
     "views": [
      {
       "cell_index": 11
      },
      {
       "cell_index": 11
      }
     ]
    },
    "591efab5f6104356b6cdd7e044f30e08": {
     "views": [
      {
       "cell_index": 11
      }
     ]
    },
    "5af55e78ba894befae0d21bbe6fb02b0": {
     "views": [
      {
       "cell_index": 11
      }
     ]
    },
    "5c6285a3e7c645829930e3344d9dcfe7": {
     "views": [
      {
       "cell_index": 11
      }
     ]
    },
    "5cfce258c8e24f708cce0633a01db383": {
     "views": [
      {
       "cell_index": 11
      }
     ]
    },
    "74b3ab41be2e40239bb5ced223dacd7d": {
     "views": [
      {
       "cell_index": 11
      }
     ]
    },
    "7952636a2df6455ea8175ba794deba69": {
     "views": [
      {
       "cell_index": 11
      }
     ]
    },
    "7ad290faff1c4fca9d4ae838e8668930": {
     "views": [
      {
       "cell_index": 11
      }
     ]
    },
    "7bfc358f010645739f6b3344b5261f36": {
     "views": [
      {
       "cell_index": 11
      }
     ]
    },
    "836c00e59cdc403a82011e918bd02cb4": {
     "views": [
      {
       "cell_index": 11
      }
     ]
    },
    "8b345e91df5341fbb87097e95e61f1c1": {
     "views": [
      {
       "cell_index": 11
      }
     ]
    },
    "8ba6eb327d4d485ca6e0b0739421ff62": {
     "views": [
      {
       "cell_index": 11
      }
     ]
    },
    "8fc895ef725744cab67c46fe4d45be16": {
     "views": [
      {
       "cell_index": 11
      }
     ]
    },
    "906dd0fc55874435a6fa2705ff7ca992": {
     "views": [
      {
       "cell_index": 11
      }
     ]
    },
    "92737a9052cd43c5a091a2c0f3900e7a": {
     "views": [
      {
       "cell_index": 11
      }
     ]
    },
    "9b2388f2b6224842863047cd9906dc88": {
     "views": [
      {
       "cell_index": 8
      }
     ]
    },
    "a4cf7888b5134db3a0ac1d366cda4520": {
     "views": [
      {
       "cell_index": 11
      }
     ]
    },
    "a7d85115a4d3437f8848622a2701a7ef": {
     "views": [
      {
       "cell_index": 11
      }
     ]
    },
    "a9c9979e6509405aa9fe6f34e4c85ab9": {
     "views": [
      {
       "cell_index": 11
      }
     ]
    },
    "ab756918f7dd4cf6bc0a5a5be2632a86": {
     "views": [
      {
       "cell_index": 11
      }
     ]
    },
    "adce2a80005d4c93b3efc53b76085e8c": {
     "views": [
      {
       "cell_index": 11
      }
     ]
    },
    "b5ad6d1150cc434083d2126136aae700": {
     "views": [
      {
       "cell_index": 12
      }
     ]
    },
    "b64178e7c45946948e0a9cf81be4380a": {
     "views": [
      {
       "cell_index": 11
      }
     ]
    },
    "b8197b5302314b928b433f585d770e53": {
     "views": [
      {
       "cell_index": 11
      }
     ]
    },
    "b855e0f5f5234bec813106ccb06724be": {
     "views": [
      {
       "cell_index": 8
      }
     ]
    },
    "b9cdd6da70c54ce9aa09ae7a032eec70": {
     "views": [
      {
       "cell_index": 6
      }
     ]
    },
    "bb754e0ebfdd4a68bb86950e2d5dd97c": {
     "views": [
      {
       "cell_index": 11
      }
     ]
    },
    "c8fc928680d340a88d769c2e6fd75bbe": {
     "views": [
      {
       "cell_index": 11
      }
     ]
    },
    "c954279bdf794b0380eea5a5342b23c3": {
     "views": [
      {
       "cell_index": 11
      }
     ]
    },
    "d4ceab9d9a39468e8f70c527be4d3df0": {
     "views": [
      {
       "cell_index": 11
      }
     ]
    },
    "e1dbd85e966a4238aef62deaa961d6ce": {
     "views": [
      {
       "cell_index": 11
      }
     ]
    },
    "e2afe759d61d4b2f90d212dd39af2483": {
     "views": [
      {
       "cell_index": 11
      }
     ]
    },
    "e60fff4f41ba4a4d9270f8cf0de332b7": {
     "views": [
      {
       "cell_index": 11
      }
     ]
    },
    "e62cbaf79b7e4d808dd2ac8a29901d0f": {
     "views": [
      {
       "cell_index": 11
      }
     ]
    },
    "ed1558fd0a62417b83109944f789ae53": {
     "views": [
      {
       "cell_index": 11
      }
     ]
    },
    "f06fbc5b130143569f36dc78b7aff720": {
     "views": [
      {
       "cell_index": 11
      }
     ]
    },
    "f20a1fa716da44aa89e8d53513e1ad6f": {
     "views": [
      {
       "cell_index": 11
      }
     ]
    },
    "f8e120f1a60d42d18933d5456eb0e735": {
     "views": [
      {
       "cell_index": 8
      }
     ]
    },
    "fca010fe66ed4bdc98c96c900903fdf8": {
     "views": [
      {
       "cell_index": 10
      }
     ]
    },
    "fcd0de82120246baa2d3721a5af2cc93": {
     "views": [
      {
       "cell_index": 11
      }
     ]
    },
    "fd98ee5633ef46388b2328c7978d2e10": {
     "views": [
      {
       "cell_index": 11
      }
     ]
    }
   },
   "version": "1.2.0"
  }
 },
 "nbformat": 4,
 "nbformat_minor": 2
}
