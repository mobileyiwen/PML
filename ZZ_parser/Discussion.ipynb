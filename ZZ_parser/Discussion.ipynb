{
 "cells": [
  {
   "cell_type": "code",
   "execution_count": 8,
   "metadata": {
    "collapsed": true
   },
   "outputs": [],
   "source": [
    "from bs4 import BeautifulSoup\n",
    "from bs4 import NavigableString, Tag\n",
    "\n",
    "import requests\n",
    "import json\n",
    "import os\n",
    "\n",
    "urlx = \"http://38.103.161.145/forum/forum-25-1.html\"  # 亚洲无码转帖区\n",
    "urly = \"http://38.103.161.145/forum/forum-58-1.html\"  # 亚洲有码转帖区\n",
    "urlz = \"http://38.103.161.145/forum/forum-77-1.html\"  # 欧美无码转帖区\n",
    "urla = \"http://38.103.161.145/forum/forum-143-1.html\"   # 亚洲无码原创区\n",
    "urlb = \"http://38.103.161.145/forum/forum-230-1.html\"   # 亚洲有码原创区\n",
    "urlc = \"http://38.103.161.145/forum/forum-229-1.html\"   # 欧美无码原创区\n",
    "\n",
    "url = urlx\n",
    "r = requests.get(url)\n",
    "if r.status_code == 404:\n",
    "        print('error 404')\n",
    "r.encoding = 'gbk'        \n",
    "data = r.text\n",
    "soup = BeautifulSoup(data, \"lxml\")\n",
    "\n",
    "#return getInfoDicFromJavBus(soup)"
   ]
  },
  {
   "cell_type": "code",
   "execution_count": 9,
   "metadata": {
    "collapsed": true
   },
   "outputs": [],
   "source": [
    "thead = soup.find_all(\"thead\", {'class':'separation'})\n"
   ]
  },
  {
   "cell_type": "code",
   "execution_count": 10,
   "metadata": {},
   "outputs": [
    {
     "name": "stdout",
     "output_type": "stream",
     "text": [
      "\n",
      "  固定主題\n",
      "\n",
      "\n",
      "  重要主題\n",
      "\n",
      "\n",
      "  版块主题\n",
      "\n"
     ]
    }
   ],
   "source": [
    "for i in thead:\n",
    "    print(i.get_text())"
   ]
  },
  {
   "cell_type": "code",
   "execution_count": 11,
   "metadata": {},
   "outputs": [
    {
     "name": "stdout",
     "output_type": "stream",
     "text": [
      "[MP4/926.88 MB]私房片精选国产自拍合集[20170709]\n",
      "926.88 MB / MP4\t\t\t\t\n",
      "\t\t\t\t\n",
      "[MP4/2.86 GB]私房片精选亚洲无码合集[20170709]\n",
      "2.86 GB / MP4\t\t\t\t\n",
      "\t\t\t\t\n",
      "続々生中～元子役をドピュドビュ汚す～ - 夏乃ひまわり\n",
      "738MB / MP4\t\t\t\t\n",
      "\t\t\t\t\n",
      "カノン　－曼荼羅性交絵巻26－\n",
      "714MB / MP4\t\t\t\t\n",
      "\t\t\t\t\n",
      "朝ゴミ出しする近所の遊び好きノーブラ奥さん 末吉りり\n",
      "779MB / MP4\t\t\t\t\n",
      "\t\t\t\t\n",
      "W姦 桜井茉莉/加藤かすみ【前編】\n",
      "1.24GB / MP4\t\t\t\t\n",
      "\t\t\t\t\n",
      "スマホ縦動画スクール水着生ハメ 彩波有紀\n",
      "379MB / MP4\t\t\t\t\n",
      "\t\t\t\t\n",
      "k1373 搭訕美乳無毛蘿莉妹 椎名柚子《無碼中文》\n",
      "417MB / MP4\t\t\t\t\n",
      "\t\t\t\t\n",
      "HEYZO-1224 綺麗中出～肏翻淫肉大爆射！《無碼中文》\n",
      "495MB / MP4\t\t\t\t\n",
      "\t\t\t\t\n",
      "加勒比 040913-308-新入社員のお仕事 美緒みくる\n",
      "906M / WMV\t\t\t\t\n",
      "\t\t\t\t\n",
      "(SKYHD-092) Sky Angel Blue Vol.92 贪欲美熟女精液横流 岩佐あゆみAyumi\n",
      "1.02G / AVI\t\t\t\t\n",
      "\t\t\t\t\n",
      "(SKYHD-094) Sky Angel Blue Vol.94 鈴木さとみSatomi\n",
      "1.08G / AVI\t\t\t\t\n",
      "\t\t\t\t\n",
      "東京熱 Tokyo Hot n0783 あずみ恋3穴＆顔面30発精液中出し\n",
      "1.1G / AVI\t\t\t\t\n",
      "\t\t\t\t\n",
      "DRC-023 CATCHEYE Vol.23 松ひかる(Hikaru)~史上最淫法廷記事\n",
      "956M / AVI\t\t\t\t\n",
      "\t\t\t\t\n",
      "[MP4/864.73 MB]私房片精选国产自拍合集[20170708]\n",
      "864.73 MB / MP4\t\t\t\t\n",
      "\t\t\t\t\n",
      "早抜き 羽田真里BEST\n",
      "743MB / MP4\t\t\t\t\n",
      "\t\t\t\t\n",
      "ノーブラの美ジョガーをナンパ 音海さや\n",
      "816MB / MP4\t\t\t\t\n",
      "\t\t\t\t\n",
      "生島涼がぼくのお嫁さん\n",
      "784MB / MP4\t\t\t\t\n",
      "\t\t\t\t\n",
      "いいなり奴隷妻中島京子\n",
      "762MB / MP4\t\t\t\t\n",
      "\t\t\t\t\n",
      "グラマラス 双葉みお\n",
      "727MB / MP4\t\t\t\t\n",
      "\t\t\t\t\n",
      "国产情趣酒店水滴情侣31部全集\n",
      "9.24GB / MP4\t\t\t\t\n",
      "\t\t\t\t\n",
      "[MP4/921.90 MB]私房片精选国产自拍合集[20170707]\n",
      "921.90 MB / MP4\t\t\t\t\n",
      "\t\t\t\t\n",
      "极品学妹肤白貌美在家自拍，骚逼一抠就出水有特写[MP4/203MB]\n",
      "203MB / MP4\t\t\t\t\n",
      "\t\t\t\t\n",
      "极品丝足原味女胭脂扣VIP收费视频之女老师引诱学生[MP4/216MB]\n",
      "216MB / MP4\t\t\t\t\n",
      "\t\t\t\t\n",
      "极品情趣白丝银高跟女神香奈儿挑逗情人[MP4/457MB]\n",
      "457MB / MP4\t\t\t\t\n",
      "\t\t\t\t\n",
      "极品女神初尝3P娇滴滴的呻吟销魂诱人[MP4/2.9GB]\n",
      "2.9GB / MP4\t\t\t\t\n",
      "\t\t\t\t\n",
      "极品白嫩美臀骚妹纸坐高铁千里送逼[MP4/432MB]\n",
      "432MB / MP4\t\t\t\t\n",
      "\t\t\t\t\n",
      "Tokyo-Hot n0928 問答無用姦[MP4/1.2GB]\n",
      "1.2GB / MP4\t\t\t\t\n",
      "\t\t\t\t\n",
      "Tokyo-Hot n0927 葉山やろベ[MP4/1.2GB]\n",
      "1.2GB / MP4\t\t\t\t\n",
      "\t\t\t\t\n",
      "Tokyo-Hot n0926 蒼乃ろス[MP4/1GB]\n",
      "1GB / MP4\t\t\t\t\n",
      "\t\t\t\t\n",
      "Tokyo-Hot n0925 W姦小泉真希 荒木ネゆ[MP4/1GB]\n",
      "1GB / MP4\t\t\t\t\n",
      "\t\t\t\t\n",
      "Tokyo-Hot n1123 東京熱 絶対服従 安田真弓[MP4/1.28GB]\n",
      "1.28GB / MP4\t\t\t\t\n",
      "\t\t\t\t\n",
      "東京熱 Tokyo Hot n0681 高城みくり東熱筋肉美人初中出し~Mikuri初裏,初中出18連發\n",
      "990M / AVI\t\t\t\t\n",
      "\t\t\t\t\n",
      "[1Pondo-050717_524] グラマラス 麻生希\n",
      "555M / MP4\t\t\t\t\n",
      "\t\t\t\t\n",
      "(Heyzo)(1525)痴女占い師の童貞狩り 麻生希\n",
      "2.25G / MP4\t\t\t\t\n",
      "\t\t\t\t\n"
     ]
    }
   ],
   "source": [
    "for item in thead:\n",
    "    if (item.get_text().strip(' \\t\\n') == '版块主题'):\n",
    "        tb = item.find_next('tbody')\n",
    "#        print(tb)\n",
    "        while(tb):\n",
    "            sp = tb.find('span')\n",
    "            href = sp.find('a')['href']\n",
    "            print (sp.get_text())\n",
    "            tdnum1 = tb.find('td', {'class': 'nums'})\n",
    "            tdnum2 = tdnum1.find_next('td', {'class': 'nums'})\n",
    "            print(tdnum2.get_text())\n",
    "            \n",
    "            tb = tb.find_next('tbody')\n",
    "        "
   ]
  },
  {
   "cell_type": "code",
   "execution_count": 119,
   "metadata": {
    "collapsed": true
   },
   "outputs": [],
   "source": [
    "\n",
    "threadUrl = 'thread-9968155-1-2.html'\n",
    "\n",
    "import re\n",
    "s =re.search(r'thread-([\\d]+)', threadUrl)\n",
    "threadID = s.group(1)\n",
    "threadFullUrl = \"http://38.103.161.145/forum/\" + threadUrl\n",
    "r = requests.get(threadFullUrl)\n",
    "if r.status_code == 404:\n",
    "        print('error 404')\n",
    "r.encoding = 'gbk'        \n",
    "data = r.text\n",
    "soupThread = BeautifulSoup(data, \"lxml\")"
   ]
  },
  {
   "cell_type": "code",
   "execution_count": 120,
   "metadata": {
    "collapsed": true
   },
   "outputs": [],
   "source": [
    "dv = soupThread.find('div', {'class': 'postmessage defaultpost'})\n",
    "title = dv.find('h2').get_text()"
   ]
  },
  {
   "cell_type": "code",
   "execution_count": 121,
   "metadata": {},
   "outputs": [
    {
     "name": "stdout",
     "output_type": "stream",
     "text": [
      "http://www.qpic.ws/images/pbe261ara192.jpg\n",
      "http://www.qpic.ws/images/pbe261ara192.jpg .... /User/yiwenliu/Desktop/Projects/AV_Forum/9968155 - 261ARA-192 20歳の巨乳バンド女子ゆいちゃん参上！ - 00.jpg\n",
      "http://www.qpic.ws/images/cape3261ara192.jpg\n",
      "http://www.qpic.ws/images/cape3261ara192.jpg .... /User/yiwenliu/Desktop/Projects/AV_Forum/9968155 - 261ARA-192 20歳の巨乳バンド女子ゆいちゃん参上！ - 01.jpg\n",
      "http://www.qpic.ws/images/cape13261ara192.jpg\n",
      "http://www.qpic.ws/images/cape13261ara192.jpg .... /User/yiwenliu/Desktop/Projects/AV_Forum/9968155 - 261ARA-192 20歳の巨乳バンド女子ゆいちゃん参上！ - 02.jpg\n",
      "http://www.qpic.ws/images/cape15261ara192.jpg\n",
      "http://www.qpic.ws/images/cape15261ara192.jpg .... /User/yiwenliu/Desktop/Projects/AV_Forum/9968155 - 261ARA-192 20歳の巨乳バンド女子ゆいちゃん参上！ - 03.jpg\n",
      "images/attachicons/torrent.gif\n"
     ]
    }
   ],
   "source": [
    "folder = \"/User/yiwenliu/Desktop/Projects/AV_Forum\"\n",
    "img = dv.find_all('img')\n",
    "count = 0\n",
    "for item in img:\n",
    "    print(item['src'])\n",
    "    if (item['src'].lower().endswith('jpg')) or (item['src'].lower().endswith('png')):\n",
    "        imgPath = item['src']\n",
    "        saveName = folder + '/' + threadID + ' - ' + title + \" - {0:02d}\".format(count) + imgPath[imgPath.rfind('.'):]\n",
    "        print(imgPath, '....', saveName)        \n",
    "        count += 1"
   ]
  },
  {
   "cell_type": "code",
   "execution_count": 83,
   "metadata": {},
   "outputs": [
    {
     "data": {
      "text/plain": [
       "<h2>[RBD-794] 調教超正模特兒到理性崩壞地獄 天海翼[中文字幕]</h2>"
      ]
     },
     "execution_count": 83,
     "metadata": {},
     "output_type": "execute_result"
    }
   ],
   "source": [
    "dv.find('h2')"
   ]
  },
  {
   "cell_type": "code",
   "execution_count": null,
   "metadata": {
    "collapsed": true
   },
   "outputs": [],
   "source": []
  }
 ],
 "metadata": {
  "kernelspec": {
   "display_name": "Python 3",
   "language": "python",
   "name": "python3"
  },
  "language_info": {
   "codemirror_mode": {
    "name": "ipython",
    "version": 3
   },
   "file_extension": ".py",
   "mimetype": "text/x-python",
   "name": "python",
   "nbconvert_exporter": "python",
   "pygments_lexer": "ipython3",
   "version": "3.6.0"
  }
 },
 "nbformat": 4,
 "nbformat_minor": 2
}
