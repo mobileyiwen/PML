{
 "cells": [
  {
   "cell_type": "code",
   "execution_count": 49,
   "metadata": {
    "collapsed": true
   },
   "outputs": [],
   "source": [
    "from bs4 import BeautifulSoup\n",
    "from bs4 import NavigableString, Tag\n",
    "\n",
    "import requests\n",
    "import json\n",
    "import os\n",
    "\n",
    "url = \"http://38.103.161.145/forum/forum-58-1.html\"\n",
    "r = requests.get(url)\n",
    "if r.status_code == 404:\n",
    "        print('error 404')\n",
    "r.encoding = 'gbk'        \n",
    "data = r.text\n",
    "soup = BeautifulSoup(data, \"lxml\")\n",
    "\n",
    "#return getInfoDicFromJavBus(soup)"
   ]
  },
  {
   "cell_type": "code",
   "execution_count": 50,
   "metadata": {
    "collapsed": true
   },
   "outputs": [],
   "source": [
    "thead = soup.find_all(\"thead\", {'class':'separation'})\n",
    "b = soup.find('form', {'name':'moderate'})"
   ]
  },
  {
   "cell_type": "code",
   "execution_count": 54,
   "metadata": {},
   "outputs": [
    {
     "name": "stdout",
     "output_type": "stream",
     "text": [
      "\n",
      "  固定主題\n",
      "\n",
      "\n",
      "  重要主題\n",
      "\n",
      "\n",
      "  版块主题\n",
      "\n"
     ]
    }
   ],
   "source": [
    "for i in a:\n",
    "    print(i.get_text())"
   ]
  },
  {
   "cell_type": "code",
   "execution_count": 71,
   "metadata": {},
   "outputs": [
    {
     "name": "stdout",
     "output_type": "stream",
     "text": [
      "thread-9968660-1-1.html\n",
      "[RKI-434] 接著一直輪姦到膩為止。 [中文字幕]\n",
      "----\n",
      "thread-9968656-1-1.html\n",
      "[RKI-433] 身上的性愛自拍實況 櫻 在加壓受孕抽插時完全墮落高潮。[中文字幕]\n",
      "----\n",
      "thread-9968655-1-1.html\n",
      "[RKI-432] 世界第一發射氣勢超厲害的男人讓人懷孕猛射SEX[中文字幕]\n",
      "----\n",
      "thread-9968652-1-1.html\n",
      "[NNPJ-158] 搭訕後才知道是處女！？“我還沒有做過那種事···”[中文字幕]\n",
      "----\n",
      "thread-9968649-1-1.html\n",
      "[MDTM-203] 我專用的從順學生妹 亞里沙[中文字幕]\n",
      "----\n",
      "thread-9968648-1-1.html\n",
      "[KUNI-019] 素人偷拍流出畫面 Part.3[中文字幕]\n",
      "----\n",
      "thread-9968646-1-1.html\n",
      "[KUNI-015] 素人偷拍流出畫面[中文字幕]\n",
      "----\n",
      "thread-9968645-1-1.html\n",
      "[ESK-282] 越幹越淫蕩素人妹 282[中文字幕]\n",
      "----\n",
      "thread-9968642-1-1.html\n",
      "[ATOM-258] 一定要露內褲及雙腿大開！！！股裂問答[中文字幕]\n",
      "----\n",
      "thread-9968641-1-1.html\n",
      "[APAK-156] 墮落時也要2人一起，被玷污也要一起，被搞壞時也..要一起哦...」[中文字幕]\n",
      "----\n",
      "thread-9968563-1-1.html\n",
      "XVSR-245 理想の飼育調教 ～麗しのメイド性奴隷～ 大槻ひびき\n",
      "----\n",
      "thread-9968561-1-1.html\n",
      "XVSR-246 本気で赤面する、美少女たちの放尿！\n",
      "----\n",
      "thread-9968557-1-1.html\n",
      "XVSR-247 裏?つぼみ 未公開SEX付き蔵出し映像\n",
      "----\n",
      "thread-9968555-1-1.html\n",
      "MANN-011 ドスケベ爆乳お姉さんと肉欲中出し温泉デート\n",
      "----\n",
      "thread-9968550-1-1.html\n",
      "REXD-311 レッド突撃隊20周年記念 芸能人レベルのS級素人！レッド突撃隊SUPER 神回！\n",
      "----\n",
      "thread-9968538-1-1.html\n",
      "ULT-152 边和亲友通话边挑逗拿奖金受不了狂干 [中文字幕]\n",
      "----\n",
      "thread-9968536-1-1.html\n",
      "MEYD-261 邻居鲁蛇男大学生偷干美人妻高潮内射 [中文字幕]\n",
      "----\n",
      "thread-9968534-1-1.html\n",
      "MDB-789 美容院巨乳美发师挑逗勃起偷干内射 [中文字幕]\n",
      "----\n",
      "thread-9968512-1-1.html\n",
      "[AVI] APAK-174 弄ばれた肉感Fカップの美人OL。\n",
      "----\n",
      "thread-9968509-1-1.html\n",
      "[AVI] APAK-173あゝこれって美容サプ疼いてきて…\n",
      "----\n",
      "thread-9968508-1-1.html\n",
      "[AVI] AOZ-186z 学校 を押し殺してエッに愛液\n",
      "----\n",
      "thread-9968506-1-1.html\n",
      "[AVI] ANX-087 催眠コンサル-ブラック派遣相談 月本愛-\n",
      "----\n",
      "thread-9968505-1-1.html\n",
      "[AVI] AMBI-078 犯され家畜にり娘 みき 愛瀬美希\n",
      "----\n",
      "thread-9968500-1-1.html\n",
      "[AVI] ADN-126 復讐凌辱 壺に堕とされた女 友田彩也香\n",
      "----\n",
      "thread-9968499-1-1.html\n",
      "[AVI] ADN-125 あなた、 白昼夢～ 八神さおり\n",
      "----\n",
      "thread-9968497-1-1.html\n",
      "[AVI] ABP-600 今永さな なまなかだし 17\n",
      "----\n",
      "thread-9968495-1-1.html\n",
      "[AVI] ABP-599 痴りたがり SP.01 水稀みり\n",
      "----\n",
      "thread-9968494-1-1.html\n",
      "[AVI] ABP-598 人生初・ 状態 激イキ絶頂セ  凰かなめ\n",
      "----\n",
      "thread-9968299-1-1.html\n",
      "[EBOD-567] 競技經驗14年！入選全國大賽！結實的運動員身材[中文字幕]\n",
      "----\n",
      "thread-9968298-1-1.html\n",
      "[BID-050] 超完美身軀美巨乳痴女大亂交特別篇[中文字幕]\n",
      "----\n",
      "thread-9968295-1-1.html\n",
      "[SPRD-919] 和豐滿媽媽來相姦 加山夏子[中文字幕]\n",
      "----\n",
      "thread-9968294-1-1.html\n",
      "[RBD-794] 調教超正模特兒到理性崩壞地獄 天海翼[中文字幕]\n",
      "----\n",
      "thread-9968292-1-1.html\n",
      "[PPPD-536] 巨乳學生妹和精力超威大叔援交肏翻天[中文字幕]\n",
      "----\n",
      "thread-9968291-1-1.html\n",
      "[HBAD-351] 被兒子的不良少年朋友強迫處理性慾的媽媽 柊咲[中文字幕]\n",
      "----\n",
      "thread-9968290-1-1.html\n",
      "[KAWD-769]爽到無法忍耐第一次高潮噴出如洪水般的淫水[中文字幕]\n",
      "----\n"
     ]
    }
   ],
   "source": [
    "for item in thead:\n",
    "    if (item.get_text().strip(' \\t\\n') == '版块主题'):\n",
    "        tb = item.find_next('tbody')\n",
    "#        print(tb)\n",
    "        while(tb):\n",
    "            sp = tb.find('span')\n",
    "            href = sp.find('a')['href']\n",
    "            print (sp.get_text())\n",
    "            tb = tb.find_next('tbody')\n",
    "        "
   ]
  },
  {
   "cell_type": "code",
   "execution_count": 119,
   "metadata": {},
   "outputs": [],
   "source": [
    "\n",
    "threadUrl = 'thread-9968155-1-2.html'\n",
    "\n",
    "import re\n",
    "s =re.search(r'thread-([\\d]+)', threadUrl)\n",
    "threadID = s.group(1)\n",
    "threadFullUrl = \"http://38.103.161.145/forum/\" + threadUrl\n",
    "r = requests.get(threadFullUrl)\n",
    "if r.status_code == 404:\n",
    "        print('error 404')\n",
    "r.encoding = 'gbk'        \n",
    "data = r.text\n",
    "soupThread = BeautifulSoup(data, \"lxml\")"
   ]
  },
  {
   "cell_type": "code",
   "execution_count": 120,
   "metadata": {},
   "outputs": [],
   "source": [
    "dv = soupThread.find('div', {'class': 'postmessage defaultpost'})\n",
    "title = dv.find('h2').get_text()"
   ]
  },
  {
   "cell_type": "code",
   "execution_count": 121,
   "metadata": {},
   "outputs": [
    {
     "name": "stdout",
     "output_type": "stream",
     "text": [
      "http://www.qpic.ws/images/pbe261ara192.jpg\n",
      "http://www.qpic.ws/images/pbe261ara192.jpg .... /User/yiwenliu/Desktop/Projects/AV_Forum/9968155 - 261ARA-192 20歳の巨乳バンド女子ゆいちゃん参上！ - 00.jpg\n",
      "http://www.qpic.ws/images/cape3261ara192.jpg\n",
      "http://www.qpic.ws/images/cape3261ara192.jpg .... /User/yiwenliu/Desktop/Projects/AV_Forum/9968155 - 261ARA-192 20歳の巨乳バンド女子ゆいちゃん参上！ - 01.jpg\n",
      "http://www.qpic.ws/images/cape13261ara192.jpg\n",
      "http://www.qpic.ws/images/cape13261ara192.jpg .... /User/yiwenliu/Desktop/Projects/AV_Forum/9968155 - 261ARA-192 20歳の巨乳バンド女子ゆいちゃん参上！ - 02.jpg\n",
      "http://www.qpic.ws/images/cape15261ara192.jpg\n",
      "http://www.qpic.ws/images/cape15261ara192.jpg .... /User/yiwenliu/Desktop/Projects/AV_Forum/9968155 - 261ARA-192 20歳の巨乳バンド女子ゆいちゃん参上！ - 03.jpg\n",
      "images/attachicons/torrent.gif\n"
     ]
    }
   ],
   "source": [
    "folder = \"/User/yiwenliu/Desktop/Projects/AV_Forum\"\n",
    "img = dv.find_all('img')\n",
    "count = 0\n",
    "for item in img:\n",
    "    print(item['src'])\n",
    "    if (item['src'].lower().endswith('jpg')) or (item['src'].lower().endswith('png')):\n",
    "        imgPath = item['src']\n",
    "        saveName = folder + '/' + threadID + ' - ' + title + \" - {0:02d}\".format(count) + imgPath[imgPath.rfind('.'):]\n",
    "        print(imgPath, '....', saveName)        \n",
    "        count += 1"
   ]
  },
  {
   "cell_type": "code",
   "execution_count": 83,
   "metadata": {},
   "outputs": [
    {
     "data": {
      "text/plain": [
       "<h2>[RBD-794] 調教超正模特兒到理性崩壞地獄 天海翼[中文字幕]</h2>"
      ]
     },
     "execution_count": 83,
     "metadata": {},
     "output_type": "execute_result"
    }
   ],
   "source": [
    "dv.find('h2')"
   ]
  },
  {
   "cell_type": "code",
   "execution_count": 100,
   "metadata": {},
   "outputs": [
    {
     "name": "stdout",
     "output_type": "stream",
     "text": [
      "This is a test book, and that 05\n"
     ]
    }
   ],
   "source": [
    "print (\"This is a test {0}, and that {1:02d}\".format('book', 5))"
   ]
  },
  {
   "cell_type": "code",
   "execution_count": 93,
   "metadata": {},
   "outputs": [
    {
     "data": {
      "text/plain": [
       "'First argument: 47, second one: 11'"
      ]
     },
     "execution_count": 93,
     "metadata": {},
     "output_type": "execute_result"
    }
   ],
   "source": [
    "\"First argument: {0}, second one: {1}\".format(47,11)"
   ]
  },
  {
   "cell_type": "code",
   "execution_count": 111,
   "metadata": {},
   "outputs": [
    {
     "name": "stdout",
     "output_type": "stream",
     "text": [
      "9968294\n"
     ]
    }
   ],
   "source": [
    "import re\n",
    "aa = re.compile(r'thread-([\\d]+)')\n",
    "threadUrl = 'thread-9968294-1-1.html'\n",
    "s =re.search(r'thread-([\\d]+)', threadUrl)\n",
    "print (s.group(1))"
   ]
  },
  {
   "cell_type": "code",
   "execution_count": null,
   "metadata": {
    "collapsed": true
   },
   "outputs": [],
   "source": []
  }
 ],
 "metadata": {
  "kernelspec": {
   "display_name": "Python 3",
   "language": "python",
   "name": "python3"
  },
  "language_info": {
   "codemirror_mode": {
    "name": "ipython",
    "version": 3
   },
   "file_extension": ".py",
   "mimetype": "text/x-python",
   "name": "python",
   "nbconvert_exporter": "python",
   "pygments_lexer": "ipython3",
   "version": "3.6.0"
  }
 },
 "nbformat": 4,
 "nbformat_minor": 2
}
