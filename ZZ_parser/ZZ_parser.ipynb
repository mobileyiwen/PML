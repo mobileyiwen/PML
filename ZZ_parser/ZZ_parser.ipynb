{
 "cells": [
  {
   "cell_type": "code",
   "execution_count": null,
   "metadata": {
    "collapsed": true
   },
   "outputs": [],
   "source": [
    "from os import listdir\n",
    "from os.path import isfile, join\n",
    "\n",
    "import os\n",
    "import re\n",
    "import pickle\n",
    "\n",
    "    \n",
    "    \n",
    "def findlabel(filename):\n",
    "    label = re.compile(r'[A-Za-z]{2,5}-?[0-9]{2,5}')\n",
    "    m = label.search(filename)\n",
    "    if m:\n",
    "        print('yes, find: ' + m.group(0) + ' in ' + filename)\n",
    "        return m.group(0)\n",
    "    else:\n",
    "        return filename\n",
    "    \n",
    "\n",
    "def getVideoFiles(folderName):\n",
    "    total_files = []\n",
    "    for root, dir, files in os.walk(folderName):\n",
    "        for file in files:\n",
    "            if not file.endswith(\"mta\") and not file.endswith(\"jpg\") and not file.endswith(\"db\"):\n",
    "                fullname = os.path.join(root, file)\n",
    "                total_files.append(fullname)\n",
    "    return total_files\n",
    "\n",
    "def createFileList():\n",
    "    allfiles = []\n",
    "    allfiles.extend(getVideoFiles(\"/Volumes/Folder1\"))\n",
    "    allfiles.extend(getVideoFiles(\"/Volumes/VData\"))\n",
    "    allfiles.extend(getVideoFiles(\"/Volumes/VDataE\"))\n",
    "    allfiles.extend(getVideoFiles(\"/Volumes/WD/untitled folder\"))\n",
    "    allfiles.extend(getVideoFiles(\"/Volumes/Maxtor/新增資料夾\"))\n",
    "    return allfiles\n",
    "\n",
    "def loadData():\n",
    "    data = pickle.load(open(\"filelist.p\", \"rb\"))\n",
    "    return data\n",
    "\n",
    "def dumpData(files):\n",
    "    pickle.dump(files, open(\"filelist.p\", \"wb\"))\n",
    "\n",
    "# List [[ID, filename, dirname, fullname, newfullname], ...]\n",
    "\n"
   ]
  },
  {
   "cell_type": "code",
   "execution_count": null,
   "metadata": {
    "collapsed": true
   },
   "outputs": [],
   "source": [
    "import re\n",
    "labelID1 = re.compile(r'([A-Za-z]{2,5})-([0-9]{2,5})')\n",
    "labelID2 = re.compile(r'([A-Za-z]{2,5})([0-9]{2,5})')\n",
    "labelID3 = re.compile(r'n\\d\\d\\d\\d')\n",
    "labelID4 = re.compile(r'([0-9]{6})[-_]([0-9]{3})')\n",
    "\n",
    "def isMatch(label, item):\n",
    "    if re.match(label, item[1]):\n",
    "        return True\n",
    "    return False\n",
    "    \n",
    "def isSearch(label, item):\n",
    "    if not re.match(label, item[1]):\n",
    "        if re.search(label, item[1]):\n",
    "            return True\n",
    "    return False\n",
    "\n",
    "def isMatchNoID(label, item):\n",
    "    if len(item[0]) == 0 and re.match(label, item[1]):\n",
    "        return True\n",
    "    return False\n",
    "    \n",
    "def isSearchNoID(label, item):\n",
    "    if len(item[0]) == 0 and not re.match(label, item[1]):\n",
    "        if re.search(label, item[1]):\n",
    "            return True\n",
    "    return False\n",
    "    \n",
    "\n",
    "def updateMatchID(label, item, method):\n",
    "    m = re.match(label, item[1])\n",
    "    if m:\n",
    "        if len(m.groups()) >= 2:\n",
    "            item[0] = m.group(1).upper() + \"-\" + m.group(2)  # update ID\n",
    "        else:\n",
    "            item[0] = m.group(0)\n",
    "        item[5] = method + 0.1\n",
    "            \n",
    "def updateSearchID(label, item, method):\n",
    "    m = re.match(label, item[1])\n",
    "    if not m:\n",
    "        s = re.search(label, item[1])\n",
    "        if s:\n",
    "            if len(s.groups()) >= 2:\n",
    "                item[0] = s.group(1).upper() + \"-\" + s.group(2)        # update ID\n",
    "            else:\n",
    "                item[0] = s.group(0)\n",
    "            item[5] = method + 0.2\n",
    "\n",
    "def showIDCount(videoData):\n",
    "    count = 0\n",
    "    for item in videoData:\n",
    "        if len(item[0]):\n",
    "            count += 1\n",
    "    print(\"Total \", len(videoData), \" items, ID count: \", count)\n",
    "    \n",
    "# 有ID 查影片資料\n",
    "#https://www.javhoo.com/av/gyd-049/  這網站可用\n",
    "\n",
    "\n",
    "\n",
    "# AV idol name list\n",
    "# https://ja.wikipedia.org/wiki/AV%E5%A5%B3%E5%84%AA%E4%B8%80%E8%A6%A7   （日本）\n",
    "# https://zh.wikipedia.org/wiki/AV%E5%A5%B3%E5%84%AA%E5%88%97%E8%A1%A8\n",
    "# https://xcity.jp/idol/?kana=%E3%81%82&num=90&page=1"
   ]
  },
  {
   "cell_type": "code",
   "execution_count": null,
   "metadata": {
    "collapsed": true
   },
   "outputs": [],
   "source": [
    "bb = loadData()\n",
    "len(bb)\n",
    "videoData = []\n",
    "for item in bb:\n",
    "    ID = ''\n",
    "    newfullname = ''\n",
    "    method = 0.0\n",
    "    fullname = item\n",
    "    dirname, filename = os.path.split(fullname)\n",
    "    videoData.append([ID, filename, dirname, fullname, newfullname, method])"
   ]
  },
  {
   "cell_type": "code",
   "execution_count": null,
   "metadata": {
    "collapsed": true
   },
   "outputs": [],
   "source": [
    "def tryLabel(label):\n",
    "    print(\"Label: \", label)\n",
    "    print(\"Match : \", len([x for x in videoData if isMatchNoID(label, x)]))\n",
    "    print(\"Search: \", len([x for x in videoData if isSearchNoID(label, x)]))   \n",
    "#showIDCount(videoData)\n",
    "tryLabel(labelID1)\n",
    "tryLabel(labelID2)\n",
    "tryLabel(labelID3)\n",
    "tryLabel(labelID4)"
   ]
  },
  {
   "cell_type": "code",
   "execution_count": null,
   "metadata": {
    "collapsed": true
   },
   "outputs": [],
   "source": [
    "[x for x in videoData if isSearchNoID(labelID4, x)]"
   ]
  },
  {
   "cell_type": "code",
   "execution_count": null,
   "metadata": {
    "collapsed": true
   },
   "outputs": [],
   "source": [
    "for item in videoData:\n",
    "    if len(item[0]) == 0:\n",
    "           updateMatchID(labelID1, item, 1)\n",
    "for item in videoData:\n",
    "    if len(item[0]) == 0:\n",
    "           updateSearchID(labelID1, item, 1)  \n",
    "for item in videoData:\n",
    "    if len(item[0]) == 0:\n",
    "           updateMatchID(labelID4, item, 4)\n",
    "for item in videoData:\n",
    "    if len(item[0]) == 0:\n",
    "           updateSearchID(labelID4, item, 4)            \n",
    "for item in videoData:\n",
    "    if len(item[0]) == 0:\n",
    "           updateMatchID(labelID3, item, 3)\n",
    "for item in videoData:\n",
    "    if len(item[0]) == 0:\n",
    "           updateSearchID(labelID3, item, 3)              \n",
    "for item in videoData:\n",
    "    if len(item[0]) == 0:\n",
    "           updateMatchID(labelID2, item, 2)\n",
    "for item in videoData:\n",
    "    if len(item[0]) == 0:\n",
    "           updateSearchID(labelID2, item, 2)  \n",
    "\n",
    "            \n",
    "            \n",
    "#map(lambda item: updateMatchID(labelID1, item, 1) if len(item[0] == 0) else 0, videoData)"
   ]
  },
  {
   "cell_type": "code",
   "execution_count": null,
   "metadata": {},
   "outputs": [],
   "source": [
    "print(len([x for x in videoData if isMatchNoID(labelID1, x)]))\n",
    "print(len([x for x in videoData if isSearchNoID(labelID1, x)]))\n",
    "print(len([x for x in videoData if isMatchNoID(labelID2, x)]))\n",
    "print(len([x for x in videoData if isSearchNoID(labelID2, x)]))\n",
    "print(len([x for x in videoData if isMatchNoID(labelID3, x)]))\n",
    "print(len([x for x in videoData if isSearchNoID(labelID3, x)]))\n",
    "print(len([x for x in videoData if isMatchNoID(labelID4, x)]))\n",
    "print(len([x for x in videoData if isSearchNoID(labelID4, x)]))\n",
    "showIDCount(videoData)"
   ]
  },
  {
   "cell_type": "code",
   "execution_count": null,
   "metadata": {
    "collapsed": true
   },
   "outputs": [],
   "source": [
    "a = [x[0] for x in videoData if len(x[0]) != 0]"
   ]
  },
  {
   "cell_type": "code",
   "execution_count": null,
   "metadata": {
    "collapsed": true
   },
   "outputs": [],
   "source": [
    "import json\n",
    "filename = \"avIDs.json\"\n",
    "f = open(filename, \"w\")\n",
    "json.dump(a, f)\n",
    "f.close()"
   ]
  },
  {
   "cell_type": "code",
   "execution_count": null,
   "metadata": {},
   "outputs": [],
   "source": [
    "cc = [filename for filename in aa if any(name in filename for name in (\"RNADE-041\", \"RNADE-041\"))]\n",
    "print (cc)"
   ]
  },
  {
   "cell_type": "code",
   "execution_count": null,
   "metadata": {
    "collapsed": true
   },
   "outputs": [],
   "source": [
    "import re\n",
    "label = re.compile(r'([A-Za-z]{2,5})-([0-9]{2,5})')\n",
    "#[file for file in cc if not re.match(label, file)]\n",
    "folder_file = [file for fullname in cc for file in os.path.split(fullname)]"
   ]
  },
  {
   "cell_type": "code",
   "execution_count": null,
   "metadata": {},
   "outputs": [],
   "source": [
    "ccc = [[x[0], x[1]] for x in videoData if len(x[0]) != 0]\n",
    "\n",
    "len(ccc)"
   ]
  },
  {
   "cell_type": "code",
   "execution_count": null,
   "metadata": {
    "collapsed": true
   },
   "outputs": [],
   "source": [
    "import json\n",
    "filename = \"avIDs_Filename.json\"\n",
    "f = open(filename, 'w')\n",
    "json.dump(ccc, f)\n",
    "f.close()"
   ]
  },
  {
   "cell_type": "code",
   "execution_count": null,
   "metadata": {
    "collapsed": true
   },
   "outputs": [],
   "source": [
    "len(bb)"
   ]
  },
  {
   "cell_type": "code",
   "execution_count": null,
   "metadata": {},
   "outputs": [],
   "source": [
    "dd = [filename for filename in bb if any(name in filename for name in (\"叶樹梨\", \"叶樹梨\"))]\n",
    "dd"
   ]
  },
  {
   "cell_type": "code",
   "execution_count": null,
   "metadata": {
    "collapsed": true
   },
   "outputs": [],
   "source": [
    "import os\n",
    "oldnn = '/Volumes/Folder1/Series 1/深津映見(ふかづえみ)(Emi Fukatsu)-(Nadeshiko)ハイビジョン長身美熟女(RNADE-041).avi'\n",
    "newnn = '/Volumes/Folder1/Series 1/深津映見(ふかづえみ)(Emi Fukatsu)-(Nadeshiko)ハイビジョン長身美熟女(NADE-041).avi'\n",
    "os.rename(oldnn, newnn)"
   ]
  },
  {
   "cell_type": "code",
   "execution_count": null,
   "metadata": {
    "collapsed": true
   },
   "outputs": [],
   "source": [
    "os.path.getsize(newnn)"
   ]
  },
  {
   "cell_type": "code",
   "execution_count": null,
   "metadata": {
    "collapsed": true
   },
   "outputs": [],
   "source": [
    "import os\n",
    "folder_file = [file for fullname in dd for file in os.path.split(fullname)]\n",
    "for a in folder_file:\n",
    "    print(a)\n",
    "len(folder_file)"
   ]
  },
  {
   "cell_type": "code",
   "execution_count": null,
   "metadata": {
    "collapsed": true
   },
   "outputs": [],
   "source": [
    "from langdetect import detect\n",
    "nn = '松嶋れいな 小澤マリア 芹沢直美-kira☆kira SPECIAL GANGBANG☆3MIX 前編 KISD-003() dat'\n",
    "nn2 = '僕の痴女医'\n",
    "print(detect(nn))\n",
    "print(detect(nn2))"
   ]
  },
  {
   "cell_type": "code",
   "execution_count": null,
   "metadata": {
    "collapsed": true
   },
   "outputs": [],
   "source": []
  },
  {
   "cell_type": "code",
   "execution_count": null,
   "metadata": {
    "collapsed": true
   },
   "outputs": [],
   "source": [
    "[(path, file) for n in dd for file in os.path.split(n)]"
   ]
  },
  {
   "cell_type": "code",
   "execution_count": null,
   "metadata": {
    "collapsed": true
   },
   "outputs": [],
   "source": [
    "test = \"-(Prestige)狂乱アクメ 執行番号25(Gyd-049).avi\"\n",
    "label = re.compile(r'([A-Za-z]{2,6})-([0-9]{2,5})')\n",
    "m = label.search(test)\n",
    "print (m.group(0), m.group(1), m.group(2), m.group(1).upper()+'-'+m.group(2)+\"%%%\")\n",
    "\n",
    "if re.match(label, test):\n",
    "    print (\"Match!\")"
   ]
  },
  {
   "cell_type": "code",
   "execution_count": null,
   "metadata": {
    "collapsed": true
   },
   "outputs": [],
   "source": [
    "len(bb)"
   ]
  },
  {
   "cell_type": "code",
   "execution_count": null,
   "metadata": {
    "collapsed": true
   },
   "outputs": [],
   "source": [
    "len(videoData)"
   ]
  },
  {
   "cell_type": "code",
   "execution_count": null,
   "metadata": {
    "collapsed": true
   },
   "outputs": [],
   "source": [
    "os.remove(\"/Volumes/Folder1/A_250/菅野さゆき 綾瀬れん 星海レイカ (BID-047)発射無制限！M男専用超高級淫語ソープ 爆乳3輪車DELUXE .mp4\")"
   ]
  },
  {
   "cell_type": "code",
   "execution_count": null,
   "metadata": {
    "collapsed": true
   },
   "outputs": [],
   "source": []
  },
  {
   "cell_type": "code",
   "execution_count": null,
   "metadata": {},
   "outputs": [],
   "source": [
    "# show no id items\n",
    "\n",
    "kkk = [[x[0], x[1]] for x in videoData if len(x[0]) == 0]\n",
    "\n",
    "len(kkk)"
   ]
  },
  {
   "cell_type": "code",
   "execution_count": null,
   "metadata": {},
   "outputs": [],
   "source": [
    "for x in range(800, 900):\n",
    "    print(kkk[x])"
   ]
  },
  {
   "cell_type": "code",
   "execution_count": null,
   "metadata": {
    "collapsed": true
   },
   "outputs": [],
   "source": []
  },
  {
   "cell_type": "code",
   "execution_count": null,
   "metadata": {},
   "outputs": [],
   "source": [
    "# language detection, to use full japanese string for search first\n",
    "from langdetect import detect_langs\n",
    "detect_langs(\"012415_01 生稲花歩 連続ゴックンは初めて！苦い〜\")"
   ]
  },
  {
   "cell_type": "code",
   "execution_count": null,
   "metadata": {},
   "outputs": [],
   "source": []
  },
  {
   "cell_type": "code",
   "execution_count": null,
   "metadata": {},
   "outputs": [],
   "source": [
    "# try language detection\n",
    "\n",
    "import re\n",
    "\n",
    "for x in range(650, 900):\n",
    "#    print (kkk[x])\n",
    "    name = kkk[x][1][0:kkk[x][1].rfind('.')]  # remove extension\n",
    "    if len(name)>0:\n",
    "        name = re.sub(r'[\\(\\)\\[\\]\\-_.]', ' ', name)\n",
    "        result = detect_langs(name)\n",
    "        for item in result:\n",
    "            if item.lang == 'ja' and item.prob > 0.9:\n",
    "                print (\"Japanese: \", item.prob)\n",
    "                print (result, name)               \n",
    "                break\n",
    " #           else:\n",
    " #               name = re.sub(r'[A-za-z]', ' ', name)\n",
    " #               result = detect_langs(name)                \n"
   ]
  },
  {
   "cell_type": "code",
   "execution_count": null,
   "metadata": {
    "collapsed": true
   },
   "outputs": [],
   "source": []
  },
  {
   "cell_type": "code",
   "execution_count": null,
   "metadata": {
    "collapsed": true
   },
   "outputs": [],
   "source": []
  },
  {
   "cell_type": "code",
   "execution_count": null,
   "metadata": {
    "collapsed": true
   },
   "outputs": [],
   "source": []
  },
  {
   "cell_type": "code",
   "execution_count": null,
   "metadata": {
    "collapsed": true
   },
   "outputs": [],
   "source": []
  },
  {
   "cell_type": "code",
   "execution_count": null,
   "metadata": {
    "collapsed": true
   },
   "outputs": [],
   "source": []
  },
  {
   "cell_type": "code",
   "execution_count": null,
   "metadata": {
    "collapsed": true
   },
   "outputs": [],
   "source": []
  },
  {
   "cell_type": "code",
   "execution_count": null,
   "metadata": {
    "collapsed": true
   },
   "outputs": [],
   "source": []
  },
  {
   "cell_type": "code",
   "execution_count": null,
   "metadata": {
    "collapsed": true
   },
   "outputs": [],
   "source": []
  },
  {
   "cell_type": "code",
   "execution_count": null,
   "metadata": {
    "collapsed": true
   },
   "outputs": [],
   "source": []
  },
  {
   "cell_type": "code",
   "execution_count": null,
   "metadata": {
    "collapsed": true
   },
   "outputs": [],
   "source": []
  }
 ],
 "metadata": {
  "kernelspec": {
   "display_name": "Python 3",
   "language": "python",
   "name": "python3"
  },
  "language_info": {
   "codemirror_mode": {
    "name": "ipython",
    "version": 3
   },
   "file_extension": ".py",
   "mimetype": "text/x-python",
   "name": "python",
   "nbconvert_exporter": "python",
   "pygments_lexer": "ipython3",
   "version": "3.6.0"
  }
 },
 "nbformat": 4,
 "nbformat_minor": 2
}
