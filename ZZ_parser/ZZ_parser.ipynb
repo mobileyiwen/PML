{
 "cells": [
  {
   "cell_type": "code",
   "execution_count": 1,
   "metadata": {
    "collapsed": true
   },
   "outputs": [],
   "source": [
    "from os import listdir\n",
    "from os.path import isfile, join\n",
    "\n",
    "import os\n",
    "import re\n",
    "import pickle\n",
    "\n",
    "    \n",
    "    \n",
    "def findlabel(filename):\n",
    "    label = re.compile(r'[A-Za-z]{2,5}-?[0-9]{2,5}')\n",
    "    m = label.search(filename)\n",
    "    if m:\n",
    "        print('yes, find: ' + m.group(0) + ' in ' + filename)\n",
    "        return m.group(0)\n",
    "    else:\n",
    "        return filename\n",
    "    \n",
    "\n",
    "def getVideoFiles(folderName):\n",
    "    total_files = []\n",
    "    for root, dir, files in os.walk(folderName):\n",
    "        for file in files:\n",
    "            if not file.endswith(\"mta\") and not file.endswith(\"jpg\") and not file.endswith(\"db\"):\n",
    "                fullname = os.path.join(root, file)\n",
    "                total_files.append(fullname)\n",
    "    return total_files\n",
    "\n",
    "def createFileList():\n",
    "    allfiles = []\n",
    "    allfiles.extend(getVideoFiles(\"/Volumes/Folder1\"))\n",
    "    allfiles.extend(getVideoFiles(\"/Volumes/VData\"))\n",
    "    allfiles.extend(getVideoFiles(\"/Volumes/VDataE\"))\n",
    "    allfiles.extend(getVideoFiles(\"/Volumes/WD/untitled folder\"))\n",
    "    allfiles.extend(getVideoFiles(\"/Volumes/Maxtor/新增資料夾\"))\n",
    "    return allfiles\n",
    "\n",
    "def loadData():\n",
    "    data = pickle.load(open(\"filelist.p\", \"rb\"))\n",
    "    return data\n",
    "\n",
    "def dumpData(files):\n",
    "    pickle.dump(files, open(\"filelist.p\", \"wb\"))\n",
    "\n",
    "# List [[ID, filename, dirname, fullname, newfullname], ...]\n",
    "\n"
   ]
  },
  {
   "cell_type": "code",
   "execution_count": 2,
   "metadata": {
    "collapsed": true
   },
   "outputs": [],
   "source": [
    "import re\n",
    "labelID1 = re.compile(r'([A-Za-z]{2,5})-([0-9]{2,5})')\n",
    "labelID2 = re.compile(r'([A-Za-z]{2,5})([0-9]{2,5})')\n",
    "labelID3 = re.compile(r'n\\d\\d\\d\\d')\n",
    "labelID4 = re.compile(r'([0-9]{6})[-_]([0-9]{3})')\n",
    "\n",
    "def isMatch(label, item):\n",
    "    if re.match(label, item[1]):\n",
    "        return True\n",
    "    return False\n",
    "    \n",
    "def isSearch(label, item):\n",
    "    if not re.match(label, item[1]):\n",
    "        if re.search(label, item[1]):\n",
    "            return True\n",
    "    return False\n",
    "\n",
    "def isMatchNoID(label, item):\n",
    "    if len(item[0]) == 0 and re.match(label, item[1]):\n",
    "        return True\n",
    "    return False\n",
    "    \n",
    "def isSearchNoID(label, item):\n",
    "    if len(item[0]) == 0 and not re.match(label, item[1]):\n",
    "        if re.search(label, item[1]):\n",
    "            return True\n",
    "    return False\n",
    "    \n",
    "\n",
    "def updateMatchID(label, item, method):\n",
    "    m = re.match(label, item[1])\n",
    "    if m:\n",
    "        if len(m.groups()) >= 2:\n",
    "            item[0] = m.group(1).upper() + \"-\" + m.group(2)  # update ID\n",
    "        else:\n",
    "            item[0] = m.group(0)\n",
    "        item[5] = method + 0.1\n",
    "            \n",
    "def updateSearchID(label, item, method):\n",
    "    m = re.match(label, item[1])\n",
    "    if not m:\n",
    "        s = re.search(label, item[1])\n",
    "        if s:\n",
    "            if len(s.groups()) >= 2:\n",
    "                item[0] = s.group(1).upper() + \"-\" + s.group(2)        # update ID\n",
    "            else:\n",
    "                item[0] = s.group(0)\n",
    "            item[5] = method + 0.2\n",
    "\n",
    "def showIDCount(videoData):\n",
    "    count = 0\n",
    "    for item in videoData:\n",
    "        if len(item[0]):\n",
    "            count += 1\n",
    "    print(\"Total \", len(videoData), \" items, ID count: \", count)\n",
    "    \n",
    "# 有ID 查影片資料\n",
    "#https://www.javhoo.com/av/gyd-049/  這網站可用\n",
    "\n",
    "\n",
    "\n",
    "# AV idol name list\n",
    "# https://ja.wikipedia.org/wiki/AV%E5%A5%B3%E5%84%AA%E4%B8%80%E8%A6%A7   （日本）\n",
    "# https://zh.wikipedia.org/wiki/AV%E5%A5%B3%E5%84%AA%E5%88%97%E8%A1%A8\n",
    "# https://xcity.jp/idol/?kana=%E3%81%82&num=90&page=1"
   ]
  },
  {
   "cell_type": "code",
   "execution_count": 3,
   "metadata": {
    "collapsed": true
   },
   "outputs": [],
   "source": [
    "bb = loadData()\n",
    "len(bb)\n",
    "videoData = []\n",
    "for item in bb:\n",
    "    ID = ''\n",
    "    newfullname = ''\n",
    "    method = 0.0\n",
    "    fullname = item\n",
    "    dirname, filename = os.path.split(fullname)\n",
    "    videoData.append([ID, filename, dirname, fullname, newfullname, method])"
   ]
  },
  {
   "cell_type": "code",
   "execution_count": null,
   "metadata": {
    "collapsed": true
   },
   "outputs": [],
   "source": [
    "def tryLabel(label):\n",
    "    print(\"Label: \", label)\n",
    "    print(\"Match : \", len([x for x in videoData if isMatchNoID(label, x)]))\n",
    "    print(\"Search: \", len([x for x in videoData if isSearchNoID(label, x)]))   \n",
    "#showIDCount(videoData)\n",
    "tryLabel(labelID1)\n",
    "tryLabel(labelID2)\n",
    "tryLabel(labelID3)\n",
    "tryLabel(labelID4)"
   ]
  },
  {
   "cell_type": "code",
   "execution_count": null,
   "metadata": {
    "collapsed": true
   },
   "outputs": [],
   "source": [
    "[x for x in videoData if isSearchNoID(labelID4, x)]"
   ]
  },
  {
   "cell_type": "code",
   "execution_count": 4,
   "metadata": {
    "collapsed": true
   },
   "outputs": [],
   "source": [
    "for item in videoData:\n",
    "    if len(item[0]) == 0:\n",
    "           updateMatchID(labelID1, item, 1)\n",
    "for item in videoData:\n",
    "    if len(item[0]) == 0:\n",
    "           updateSearchID(labelID1, item, 1)  \n",
    "for item in videoData:\n",
    "    if len(item[0]) == 0:\n",
    "           updateMatchID(labelID4, item, 4)\n",
    "for item in videoData:\n",
    "    if len(item[0]) == 0:\n",
    "           updateSearchID(labelID4, item, 4)            \n",
    "for item in videoData:\n",
    "    if len(item[0]) == 0:\n",
    "           updateMatchID(labelID3, item, 3)\n",
    "for item in videoData:\n",
    "    if len(item[0]) == 0:\n",
    "           updateSearchID(labelID3, item, 3)              \n",
    "for item in videoData:\n",
    "    if len(item[0]) == 0:\n",
    "           updateMatchID(labelID2, item, 2)\n",
    "for item in videoData:\n",
    "    if len(item[0]) == 0:\n",
    "           updateSearchID(labelID2, item, 2)  \n",
    "\n",
    "            \n",
    "            \n",
    "#map(lambda item: updateMatchID(labelID1, item, 1) if len(item[0] == 0) else 0, videoData)"
   ]
  },
  {
   "cell_type": "code",
   "execution_count": 5,
   "metadata": {},
   "outputs": [
    {
     "name": "stdout",
     "output_type": "stream",
     "text": [
      "0\n",
      "0\n",
      "0\n",
      "0\n",
      "0\n",
      "0\n",
      "0\n",
      "0\n",
      "Total  8155  items, ID count:  6656\n"
     ]
    }
   ],
   "source": [
    "print(len([x for x in videoData if isMatchNoID(labelID1, x)]))\n",
    "print(len([x for x in videoData if isSearchNoID(labelID1, x)]))\n",
    "print(len([x for x in videoData if isMatchNoID(labelID2, x)]))\n",
    "print(len([x for x in videoData if isSearchNoID(labelID2, x)]))\n",
    "print(len([x for x in videoData if isMatchNoID(labelID3, x)]))\n",
    "print(len([x for x in videoData if isSearchNoID(labelID3, x)]))\n",
    "print(len([x for x in videoData if isMatchNoID(labelID4, x)]))\n",
    "print(len([x for x in videoData if isSearchNoID(labelID4, x)]))\n",
    "showIDCount(videoData)"
   ]
  },
  {
   "cell_type": "code",
   "execution_count": null,
   "metadata": {
    "collapsed": true
   },
   "outputs": [],
   "source": [
    "a = [x[0] for x in videoData if len(x[0]) != 0]"
   ]
  },
  {
   "cell_type": "code",
   "execution_count": null,
   "metadata": {
    "collapsed": true
   },
   "outputs": [],
   "source": [
    "import json\n",
    "filename = \"avIDs.json\"\n",
    "f = open(filename, \"w\")\n",
    "json.dump(a, f)\n",
    "f.close()"
   ]
  },
  {
   "cell_type": "code",
   "execution_count": null,
   "metadata": {
    "collapsed": true
   },
   "outputs": [],
   "source": [
    "import re\n",
    "label = re.compile(r'([A-Za-z]{2,5})-([0-9]{2,5})')\n",
    "#[file for file in cc if not re.match(label, file)]\n",
    "folder_file = [file for fullname in cc for file in os.path.split(fullname)]"
   ]
  },
  {
   "cell_type": "code",
   "execution_count": null,
   "metadata": {
    "collapsed": true
   },
   "outputs": [],
   "source": [
    "ccc = [[x[0], x[1]] for x in videoData if len(x[0]) != 0]\n",
    "\n",
    "len(ccc)"
   ]
  },
  {
   "cell_type": "code",
   "execution_count": null,
   "metadata": {
    "collapsed": true
   },
   "outputs": [],
   "source": [
    "import json\n",
    "filename = \"avIDs_Filename.json\"\n",
    "f = open(filename, 'w')\n",
    "json.dump(ccc, f)\n",
    "f.close()"
   ]
  },
  {
   "cell_type": "code",
   "execution_count": null,
   "metadata": {
    "collapsed": true
   },
   "outputs": [],
   "source": [
    "len(bb)"
   ]
  },
  {
   "cell_type": "code",
   "execution_count": 57,
   "metadata": {},
   "outputs": [
    {
     "data": {
      "text/plain": [
       "[]"
      ]
     },
     "execution_count": 57,
     "metadata": {},
     "output_type": "execute_result"
    }
   ],
   "source": [
    "# 找檔名裏有沒有字串\n",
    "dd = [filename for filename in bb if any(name in filename for name in (\"向上\", \"向上\"))]\n",
    "dd"
   ]
  },
  {
   "cell_type": "code",
   "execution_count": null,
   "metadata": {
    "collapsed": true
   },
   "outputs": [],
   "source": [
    "# 改檔名\n",
    "import os\n",
    "oldnn = '/Volumes/Folder1/Series 1/深津映見(ふかづえみ)(Emi Fukatsu)-(Nadeshiko)ハイビジョン長身美熟女(RNADE-041).avi'\n",
    "newnn = '/Volumes/Folder1/Series 1/深津映見(ふかづえみ)(Emi Fukatsu)-(Nadeshiko)ハイビジョン長身美熟女(NADE-041).avi'\n",
    "os.rename(oldnn, newnn)\n",
    "os.path.getsize(newnn)"
   ]
  },
  {
   "cell_type": "code",
   "execution_count": null,
   "metadata": {
    "collapsed": true
   },
   "outputs": [],
   "source": [
    "from langdetect import detect\n",
    "nn = '松嶋れいな 小澤マリア 芹沢直美-kira☆kira SPECIAL GANGBANG☆3MIX 前編 KISD-003() dat'\n",
    "nn2 = '僕の痴女医'\n",
    "print(detect(nn))\n",
    "print(detect(nn2))"
   ]
  },
  {
   "cell_type": "code",
   "execution_count": null,
   "metadata": {
    "collapsed": true
   },
   "outputs": [],
   "source": []
  },
  {
   "cell_type": "code",
   "execution_count": null,
   "metadata": {
    "collapsed": true
   },
   "outputs": [],
   "source": [
    "[(path, file) for n in dd for file in os.path.split(n)]"
   ]
  },
  {
   "cell_type": "code",
   "execution_count": null,
   "metadata": {
    "collapsed": true
   },
   "outputs": [],
   "source": [
    "test = \"-(Prestige)狂乱アクメ 執行番号25(Gyd-049).avi\"\n",
    "label = re.compile(r'([A-Za-z]{2,6})-([0-9]{2,5})')\n",
    "m = label.search(test)\n",
    "print (m.group(0), m.group(1), m.group(2), m.group(1).upper()+'-'+m.group(2)+\"%%%\")\n",
    "\n",
    "if re.match(label, test):\n",
    "    print (\"Match!\")"
   ]
  },
  {
   "cell_type": "code",
   "execution_count": null,
   "metadata": {
    "collapsed": true
   },
   "outputs": [],
   "source": [
    "len(bb)"
   ]
  },
  {
   "cell_type": "code",
   "execution_count": null,
   "metadata": {
    "collapsed": true
   },
   "outputs": [],
   "source": [
    "len(videoData)"
   ]
  },
  {
   "cell_type": "code",
   "execution_count": null,
   "metadata": {
    "collapsed": true
   },
   "outputs": [],
   "source": [
    "os.remove(\"/Volumes/Folder1/A_250/菅野さゆき 綾瀬れん 星海レイカ (BID-047)発射無制限！M男専用超高級淫語ソープ 爆乳3輪車DELUXE .mp4\")"
   ]
  },
  {
   "cell_type": "code",
   "execution_count": null,
   "metadata": {
    "collapsed": true
   },
   "outputs": [],
   "source": []
  },
  {
   "cell_type": "code",
   "execution_count": 53,
   "metadata": {},
   "outputs": [
    {
     "data": {
      "text/plain": [
       "1499"
      ]
     },
     "execution_count": 53,
     "metadata": {},
     "output_type": "execute_result"
    }
   ],
   "source": [
    "# show no id items\n",
    "\n",
    "kkk = [[x[0], x[1]] for x in videoData if len(x[0]) == 0]\n",
    "\n",
    "len(kkk)"
   ]
  },
  {
   "cell_type": "code",
   "execution_count": null,
   "metadata": {
    "collapsed": true
   },
   "outputs": [],
   "source": [
    "for x in range(800, 900):\n",
    "    print(kkk[x])"
   ]
  },
  {
   "cell_type": "code",
   "execution_count": null,
   "metadata": {
    "collapsed": true
   },
   "outputs": [],
   "source": []
  },
  {
   "cell_type": "code",
   "execution_count": 52,
   "metadata": {},
   "outputs": [
    {
     "data": {
      "text/plain": [
       "[ja:0.999999754862797]"
      ]
     },
     "execution_count": 52,
     "metadata": {},
     "output_type": "execute_result"
    }
   ],
   "source": [
    "# language detection, to use full japanese string for search first\n",
    "from langdetect import detect_langs\n",
    "detect_langs(\"012415_01 生稲花歩 連続ゴックンは初めて！苦い〜\")"
   ]
  },
  {
   "cell_type": "code",
   "execution_count": null,
   "metadata": {
    "collapsed": true
   },
   "outputs": [],
   "source": []
  },
  {
   "cell_type": "code",
   "execution_count": 55,
   "metadata": {},
   "outputs": [
    {
     "name": "stdout",
     "output_type": "stream",
     "text": [
      "['', '小泉ゆうか Yuuka Koizumi (小泉ゆうか) - ギリギリモザイク 僕はアナタの痴女ペット(2005.08.07).avi']\n",
      "Japanese:  0.9999999948920305\n",
      "[ja:0.9999999948920305] 小泉ゆうか Yuuka Koizumi  小泉ゆうか    ギリギリモザイク 僕はアナタの痴女ペット 2005 08 07 \n",
      "['', '小泉ゆうか Yuuka Koizumi - 高級ソ-プ孃育成講座.avi']\n",
      "['', '小泉ゆうか 超漂亮新人 小泉Yuka Koizumi - Virgin Love .avi']\n",
      "['', '小泉ゆうか(2006.04.01)[Moodyz] Yuka Koizumi - 婵€銉斻偣銉堛兂 20.504鍥-.avi']\n",
      "['', '桐島千沙 堕ちた万引き妻 悲哀の妄淫凌辱.avi']\n",
      "Japanese:  0.9999980519200461\n",
      "[ja:0.9999980519200461] 桐島千沙 堕ちた万引き妻 悲哀の妄淫凌辱\n",
      "['', '桐島千沙 非日常的悶絶遊戯 第70章 セルビデオショップでアルバイトをする奥様、千沙の場合 桐島千沙.avi']\n",
      "Japanese:  0.9999999826641407\n",
      "[ja:0.9999999826641407] 桐島千沙 非日常的悶絶遊戯 第70章 セルビデオショップでアルバイトをする奥様、千沙の場合 桐島千沙\n",
      "['', '桜みちる 愛しの隣の奥さん Momj 044.avi']\n",
      "Japanese:  0.9999999817513683\n",
      "[ja:0.9999999817513683] 桜みちる 愛しの隣の奥さん Momj 044\n",
      "['', '桜みちる-幻母-母親的肉體息子.avi']\n",
      "Japanese:  0.9999997524147529\n",
      "[ja:0.9999997524147529] 桜みちる 幻母 母親的肉體息子\n",
      "['', '桜みちる@旦那の弟を誘惑する美人妻 2 ～義理の弟と犯る女房～ .avi']\n",
      "Japanese:  0.999998321822799\n",
      "[ja:0.999998321822799] 桜みちる@旦那の弟を誘惑する美人妻 2 ～義理の弟と犯る女房～ \n",
      "['', '深津映見 ジュエル WOJ-7 熟妻の交尾 七ノ_ 深津理沙 (深津映見) 32_ 元スチュワ_デス熟女妻 (2006-09-07).avi']\n",
      "Japanese:  0.9999992342547118\n",
      "[ja:0.9999992342547118] 深津映見 ジュエル WOJ 7 熟妻の交尾 七ノ  深津理沙  深津映見  32  元スチュワ デス熟女妻  2006 09 07 \n",
      "['', '深津映見 最高の義母に中出し.avi']\n",
      "['', '深津映見 相武梨沙 女教師痴漢バス.avi']\n",
      "['', '深津映見(woman)深津映見-獨身 元客室乘務員 ＶＯＬ．２~DivX+FERRARI-F430.avi']\n",
      "['', '深津映見, 高倉梨奈 友達のお母さんに筆下ろしされた僕 - 深津映見, 高倉梨奈.avi']\n",
      "Japanese:  0.9999993872443989\n",
      "[ja:0.9999993872443989] 深津映見, 高倉梨奈 友達のお母さんに筆下ろしされた僕   深津映見, 高倉梨奈\n",
      "['', '深津映見-(溜池)女教師映見 深津映見-2h01m.avi']\n",
      "['', '深津映見.名波ゆら.澤よし乃.松永玲奈.白川麗子(2006.10.19)_中出しされた人妻たち 第2章(中文).avi']\n",
      "Japanese:  0.999998511174466\n",
      "[ja:0.999998511174466] 深津映見 名波ゆら 澤よし乃 松永玲奈 白川麗子 2006 10 19  中出しされた人妻たち 第2章 中文 \n",
      "['', '渡濑晶 59.10[パンスト][DC_005]心交社 Dynamite Channel ファッションモデル_ホワイト編..avi']\n",
      "Japanese:  0.9999996469705175\n",
      "[ja:0.9999996469705175] 渡濑晶 59 10 パンスト  DC 005 心交社 Dynamite Channel ファッションモデル ホワイト編 \n",
      "['', '渡瀨晶 Akira Watase - Fanta Dream - Uncensored Super Idol Vol 33.mpg']\n",
      "['', '渡瀨晶 Akira Watase - 誘惑夫人.avi']\n",
      "['', '渡瀨晶(Akira Watase)-Nympho 2.avi']\n",
      "['', '渡瀨晶(Akira Watase)-美麗的報導記者.avi']\n",
      "['', '渡瀬晶 Akira Watase - [Milky-Cat] Race Queen Semen Slave 2.avi']\n",
      "['', '渡瀬晶 [99bb] 流出 - 美脚フェチ 渡瀬晶(Akira Watase) [无码].avi']\n",
      "['', '片瀬まこ [08月新作] [S1] Mako Katase 片瀬まこ - ギリギリモザイク もっと激しく、激しく突いて.avi']\n",
      "Japanese:  0.9999999999478436\n",
      "[ja:0.9999999999478436] 片瀬まこ  08月新作   S1  Mako Katase 片瀬まこ   ギリギリモザイク もっと激しく、激しく突いて\n",
      "['', '片瀬まこ まこ先生の誘惑授業 片瀬まこ.avi']\n",
      "Japanese:  0.9999985123546755\n",
      "[ja:0.9999985123546755] 片瀬まこ まこ先生の誘惑授業 片瀬まこ\n",
      "['', '片瀬まこ 宮路ナオミ - ダブルCA パコパコ航空 VIP専用機でイクA.avi']\n",
      "Japanese:  0.9999999684492088\n",
      "[ja:0.9999999684492088] 片瀬まこ 宮路ナオミ   ダブルCA パコパコ航空 VIP専用機でイクA\n",
      "['', '片瀬まこ 宮路ナオミ - ダブルCA パコパコ航空 VIP専用機でイクB.avi']\n",
      "Japanese:  0.9999999902401799\n",
      "[ja:0.9999999902401799] 片瀬まこ 宮路ナオミ   ダブルCA パコパコ航空 VIP専用機でイクB\n",
      "['', '片瀬まこ-あぶない！まこ先生.avi']\n",
      "Japanese:  0.9999995160571651\n",
      "[ja:0.9999995160571651] 片瀬まこ あぶない！まこ先生\n",
      "['', '白鳥さくら (Sakura Shiratori) - コスプレインボー COSPRAINBOW.avi']\n",
      "Japanese:  0.9999988265143659\n",
      "[ja:0.9999988265143659] 白鳥さくら  Sakura Shiratori    コスプレインボー COSPRAINBOW\n",
      "['', '白鳥さくら Sakura Shiratori 白鳥櫻 - 爆乳G中出全裸授業..avi']\n",
      "['', '白鳥さくら Shiratori Sakura 爆乳女-師中出20連發 dvd rip nike原創.avi']\n",
      "['', '白鳥さくら---Sakura Shiratori - 天使--魔.avi']\n",
      "['', '立花瞳 - 熟雌女.avi']\n",
      "['', '立花瞳 HITOMI TACHIBANA (立花瞳) - 人妻焅_服_イラマチオ.avi']\n",
      "Japanese:  0.9999985909732453\n",
      "[ja:0.9999985909732453] 立花瞳 HITOMI TACHIBANA  立花瞳    人妻焅 服 イラマチオ\n",
      "['', '立花瞳 Hitomi Tachibana - (2005.07.06) Hitomi Tachibana - 欲情不倫妻 誘惑淫女.avi']\n",
      "['', '立花瞳 Hitomi Tachibana - 2005-11-01 Wanz 立花瞳 - 長身痴女 立花瞳 170.3センチ.avi']\n",
      "['', '立花瞳 Hitomi Tachibana - 2006-01-18 グロリクエスト 艶熟 中出し 立花瞳.avi']\n",
      "['', '立花瞳 Hitomi Tachibana-Hitomi Tachibana 立花瞳 - Erogance Vol.avi']\n",
      "['', '立花瞳 Premiere Leg Vol 1 .avi']\n",
      "['', '立花瞳 [k.m.p] (강추) Tachibana Hitomi - VERY BEST OF 立花瞳 完全版 (2006.08.18).avi']\n",
      "['', '立花瞳 熟女人妻特輯 團地妻 背德之疼 立花瞳 瀨戶惠子.avi']\n",
      "['', '立花瞳 타치바나 히토미-77 (Hitomi Tachibana-立花瞳) 슈퍼모델급.avi']\n",
      "['', '立花瞳(Av)(レズ) 狙われた人妻 調教レズレイプ 女が女を犯す時 (立花瞳,友田真希) Avi.divx']\n",
      "Japanese:  0.9999998321580672\n",
      "[ja:0.9999998321580672] 立花瞳 Av  レズ  狙われた人妻 調教レズレイプ 女が女を犯す時  立花瞳,友田真希  Avi\n",
      "['', '立花瞳(U&K)立花瞳 Tachibana Hitomi-誘惑 67(Wf 67D).avi']\n",
      "['', '立花瞳-HITOMIX MY PRIVATE TEACHER.avi']\n",
      "['', '立花瞳Anna Akiduki (秋月杏奈), Hitomi Tachibana (立花瞳) - 美乳!潮吹--! OL-性體驗 4 CD1.avi']\n",
      "['', '立花瞳[DreamTicket]Hitomi Tachibana 立花瞳 2005-08-10 - [公開不倫素材].avi']\n",
      "['', '立花瞳[INCEST]近親相姦 愛誤-巨乳母 立花瞳(2006.03.03).avi']\n",
      "['', '立花瞳[sex delinquency]sank 人妻-性欲 立花瞳 矢藤-- 南麗華.avi']\n",
      "['', '立花瞳川崎軍二 妻と妾 立花瞳 白河みゆり.avi']\n"
     ]
    }
   ],
   "source": [
    "# try language detection\n",
    "\n",
    "import re\n",
    "\n",
    "for x in range(650, 700):\n",
    "    print (kkk[x])\n",
    "    name = kkk[x][1][0:kkk[x][1].rfind('.')]  # remove extension\n",
    "    if len(name)>0:\n",
    "        name = re.sub(r'[\\(\\)\\[\\]\\-_.]', ' ', name)\n",
    "        result = detect_langs(name)\n",
    "        for item in result:\n",
    "            if item.lang == 'ja' and item.prob > 0.9:\n",
    "                print (\"Japanese: \", item.prob)\n",
    "                print (result, name)               \n",
    "                break\n",
    " #           else:\n",
    " #               name = re.sub(r'[A-za-z]', ' ', name)\n",
    " #               result = detect_langs(name)                \n"
   ]
  },
  {
   "cell_type": "code",
   "execution_count": null,
   "metadata": {
    "collapsed": true
   },
   "outputs": [],
   "source": []
  },
  {
   "cell_type": "code",
   "execution_count": null,
   "metadata": {
    "collapsed": true
   },
   "outputs": [],
   "source": []
  },
  {
   "cell_type": "code",
   "execution_count": 8,
   "metadata": {
    "collapsed": true
   },
   "outputs": [],
   "source": [
    "from bs4 import BeautifulSoup\n",
    "from bs4 import NavigableString, Tag\n",
    "\n",
    "import requests\n",
    "import json\n",
    "import os"
   ]
  },
  {
   "cell_type": "code",
   "execution_count": 10,
   "metadata": {},
   "outputs": [],
   "source": [
    "    url = \"https://www.google.com.tw/search?q=菅野さゆき+綾瀬れん+星海レイカ+(BID-047)発射無制限！M男専用超高級淫語ソープ+爆乳3輪車DELUX\"\n",
    "    r = requests.get(url)\n",
    "    if r.status_code == 404:\n",
    "        print(\"Error\")\n",
    "    data = r.text\n",
    "    soup = BeautifulSoup(data, \"lxml\")"
   ]
  },
  {
   "cell_type": "code",
   "execution_count": 30,
   "metadata": {},
   "outputs": [],
   "source": [
    "pDmm = soup.find_all(\"h3\", {'class': 'r'})"
   ]
  },
  {
   "cell_type": "code",
   "execution_count": 50,
   "metadata": {
    "scrolled": true
   },
   "outputs": [
    {
     "name": "stdout",
     "output_type": "stream",
     "text": [
      "['http://www.dmm.co.jp/mono/dvd/-/detail/=/cid=bid047/']\n",
      "発射無制限！M男専用超高級淫語ソープ 爆乳3輪車DELUXE - アダルト ...\n",
      "[ja:0.999999550514464] 2013年10月25日 ... 発射無制限！M男専用超高級淫語ソープ 爆乳3輪車DELUXEのDVD詳細ページ。\n",
      "菅野さゆきや綾瀬れんなど複数のAV女優のカラミがた〜っぷりつまったアダルトDVDを\n",
      "値引き価格で販売。全国送料 ... 淫語 サンプル動画. 品番：, bid047.\n",
      "['http://www.dmm.co.jp/mono/dvd/-/detail/=/cid=bid047/rakuen-001']\n",
      "発射無制限！M男専用超高級淫語ｿｰﾌﾟ 爆乳3輪車DELUXE DVD通販 ...\n",
      "[ja:0.9999999818775761] 発射無制限！M男専用超高級淫語ｿｰﾌﾟ 爆乳3輪車DELUXEの紹介ﾍﾟｰｼﾞ｡人気ｱﾀﾞﾙﾄ\n",
      "DVDを値引き価格で ... 菅野さゆき 綾瀬れん 星海ﾚｲｶ 素晴らしい巨乳の3人 1．\n",
      "['http://www.linsux.org/posts/f27b6/%E7%AC%AC%E4%B8%80%E6%9C%83%E6%89%80%E6%96%B0%E7%89%87-SIS001-%E7%BE%8E-BID-047-%E7%99%BA%E5%B0%84%E7%84%A1%E5%88%B6%E9%99%90-M%E7%94%B7%E5%B0%82%E7%94%A8%E8%B6%85%E9%AB%98%E7%B4%9A%E6%B7%AB%E8%AA%9E%E3%82%BD%E3%83%BC%E3%83%97-%E7%88%86%E4%B9%B33%E8%BC%AA%E8%BB%8ADELUXE-%E8%8F%85%E9%87%8E%E3%81%95%E3%82%86%E3%81%8D-%E7%B6%BE%E7%80%AC%E3%82%8C%E3%82%93-%E6%98%9F%E6%B5%B7%E3%83%AC%E3%82%A4%E3%82%AB.html']\n",
      "第一會所新片@SIS001@(美)(BID-047)発射無制限！M男専用超高級 ...\n",
      "[ja:0.9999998506192039] 第一會所新片@SIS001@(美)(BID-047)発射無制限！M男専用超高級淫語ソープ_\n",
      "爆乳3輪車DELUXE_菅野さゆき_綾瀬れん_星海レイカ. Create Time : 2015-09-18 ...\n",
      "['https://www.skytorrents.in/info/571a813c6bbfb80a6a01a279d06c0a321e191e74/%E7%AC%AC%E4%B8%80%E6%9C%83%E6%89%80%E6%96%B0%E7%89%87-SIS001-%E7%BE%8E-BID-047-%E7%99%BA%E5%B0%84%E7%84%A1%E5%88%B6%E9%99%90%EF%BC%81M%E7%94%B7%E5%B0%82%E7%94%A8%E8%B6%85%E9%AB%98%E7%B4%9A%E6%B7%AB%E8%AA%9E%E3%82%BD%E3%83%BC%E3%83%97-%E7%88%86%E4%B9%B33%E8%BC%AA%E8%BB%8ADELUXE-%E8%8F%85%E9%87%8E%E3%81%95%E3%82%86%E3%81%8D-%E7%B6%BE%E7%80%AC%E3%82%8C%E3%82%93-%E6%98%9F%E6%B5%B7%E3%83%AC%E3%82%A4%E3%82%AB/?l=en-us']\n",
      "第一會所新片SIS001 美BID 047 発射無制限！M男専用超高級淫語 ...\n",
      "[ja:0.8571424792651815, ko:0.14285714561440638] 第一會所新片SIS001 美BID 047 発射無制限！M男専用超高級淫語ソープ爆乳3輪車\n",
      "DELUXE 菅野さゆき綾瀬れん星海レイカ| Download.\n",
      "['http://storebt.org/torrent/W7TYARDMMDnxYrGZNpNnlU5sIKK.html']\n",
      "第一會所新片@SIS001@(美)(BID-047)発射無制限！M男専用超高級 ...\n",
      "[ja:0.9999997716771309] 第一會所新片@SIS001@(美)(BID-047)発射無制限！M男専用超高級淫語ソープ_\n",
      "爆乳3輪車DELUXE_菅野さゆき_綾瀬れん_星海レイカ.\n",
      "['https://torrentz2.eu/571a813c6bbfb80a6a01a279d06c0a321e191e74']\n",
      "(BID-047)発射無制限！M男専用超高級淫語ソープ - Torrentz2\n",
      "[ja:0.5714271618764102, vi:0.4285694049393314] M男専用超高級淫語ソープ_爆乳3輪車DELUXE_菅野さゆき_綾瀬れん_星海レイカ 5 \n",
      "torrent ... Stream Now第一會所新片@SIS001@(美)(BID-047)発射無制限！M男 ...\n",
      "['https://sukebei.nyaa.si/view/331139']\n",
      "[BID-047] 発射無制限！M男専用超高級淫語ソープ 爆乳3輪車DELUXE ...\n",
      "[ja:0.9999988637250801] 2013年10月21日 ... [BID-047] 発射無制限！M男専用超高級淫語ソープ 爆乳3輪車DELUXE 菅野さゆき \n",
      "綾瀬れん 星海レイカ 商品発売日： 2013/10/25. Category:.\n",
      "['http://btkitty.kim/torrent/BcEHAQAwCAMwS_xhh3L8S1hyGbpWmOnrhUDCwj0LpTSPW-yYoB8.html']\n",
      "BID047 発射無制限！M男専用超高級淫語ソープ 爆乳3輪車DELUXE ...\n",
      "[no:0.571426249401506, ja:0.2857139233527206, fr:0.14285870539440626] 2015年3月4日 ... Torrent file details; Name: BID047 発射無制限！M男専用超高級淫語ソープ 爆乳3\n",
      "輪車DELUXE 菅野さゆき 綾瀬れん 星海レイカ.torrent; 立即观看 ...\n",
      "['http://www.uwants.com/archiver/?tid-18386288.html']\n",
      "[d811]BID-047 爆乳3輪車DELUXE(頁1) - 成人電影- 日本（有碼） - Uwants ...\n",
      "[ja:0.7142857202418507, ko:0.28571324494481143] [size=4][d811]BID-047 爆乳3輪車DELUXE[影片名稱]︰BID-047 発射無制限！M男\n",
      "専用超高級淫語ソープ爆乳3輪車DELUXE 菅野さゆき綾瀬れん星 ...\n",
      "['http://sosocili.com/cili/1ngBPGk_kAfgA6JvqGmKMXu5HdE.html']\n",
      "(BID-047)発射無制限！M男専用超高級淫語ソープ - 搜搜磁力\n",
      "[ja:0.9999977017962214] 2017年7月4日 ... 第一會所新片@SIS001@(美)(BID-047)発射無制限！M男専用超高級淫語ソープ_\n",
      "爆乳3輪車DELUXE_菅野さゆき_綾瀬れん_星海レイカ,Torrent种子 ...\n"
     ]
    }
   ],
   "source": [
    "from langdetect import detect_langs\n",
    "for x in pDmm:\n",
    "    url = x.find('a')['href']\n",
    "    text = x.find('a').get_text()\n",
    "    text2 = x.find_next_sibling('div', {'class':'s'}).find('span', {'class':'st'}).get_text()\n",
    "    if url.startswith(\"/url?\"):\n",
    "        url = parse_qs(urlparse(url).query)['q']    \n",
    "    print (url)\n",
    "    print (text)\n",
    "    print (detect_langs(text2), text2)"
   ]
  },
  {
   "cell_type": "code",
   "execution_count": null,
   "metadata": {
    "collapsed": true
   },
   "outputs": [],
   "source": []
  }
 ],
 "metadata": {
  "kernelspec": {
   "display_name": "Python 3",
   "language": "python",
   "name": "python3"
  },
  "language_info": {
   "codemirror_mode": {
    "name": "ipython",
    "version": 3
   },
   "file_extension": ".py",
   "mimetype": "text/x-python",
   "name": "python",
   "nbconvert_exporter": "python",
   "pygments_lexer": "ipython3",
   "version": "3.6.0"
  }
 },
 "nbformat": 4,
 "nbformat_minor": 2
}
