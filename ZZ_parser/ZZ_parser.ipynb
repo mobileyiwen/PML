{
 "cells": [
  {
   "cell_type": "code",
   "execution_count": 2,
   "metadata": {
    "collapsed": true
   },
   "outputs": [],
   "source": [
    "from os import listdir\n",
    "from os.path import isfile, join\n",
    "\n",
    "import os\n",
    "import re\n",
    "import pickle\n",
    "\n",
    "    \n",
    "    \n",
    "def findlabel(filename):\n",
    "    label = re.compile(r'[A-Za-z]{2,5}-?[0-9]{2,5}')\n",
    "    m = label.search(filename)\n",
    "    if m:\n",
    "        print('yes, find: ' + m.group(0) + ' in ' + filename)\n",
    "        return m.group(0)\n",
    "    else:\n",
    "        return filename\n",
    "    \n",
    "\n",
    "def getVideoFiles(folderName):\n",
    "    total_files = []\n",
    "    for root, dir, files in os.walk(folderName):\n",
    "        for file in files:\n",
    "            if not file.endswith(\"mta\") and not file.endswith(\"jpg\") and not file.endswith(\"db\"):\n",
    "                fullname = os.path.join(root, file)\n",
    "                total_files.append(fullname)\n",
    "    return total_files\n",
    "\n",
    "def createFileList():\n",
    "    allfiles = []\n",
    "    allfiles.extend(getVideoFiles(\"/Volumes/Folder1\"))\n",
    "    allfiles.extend(getVideoFiles(\"/Volumes/VData\"))\n",
    "    allfiles.extend(getVideoFiles(\"/Volumes/VDataE\"))\n",
    "    allfiles.extend(getVideoFiles(\"/Volumes/WD/untitled folder\"))\n",
    "    allfiles.extend(getVideoFiles(\"/Volumes/Maxtor/新增資料夾\"))\n",
    "    return allfiles\n",
    "\n",
    "def loadData():\n",
    "    data = pickle.load(open(\"filelist.p\", \"rb\"))\n",
    "    return data\n",
    "\n",
    "def dumpData(files):\n",
    "    pickle.dump(allfiles, open(\"filelist.p\", \"wb\"))\n",
    "\n",
    "# List [[ID, filename, dirname, fullname, newfullname], ...]\n",
    "\n"
   ]
  },
  {
   "cell_type": "code",
   "execution_count": 1,
   "metadata": {
    "collapsed": true
   },
   "outputs": [],
   "source": [
    "import re\n",
    "labelID1 = re.compile(r'([A-Za-z]{2,5})-([0-9]{2,5})')\n",
    "labelID2 = re.compile(r'([A-Za-z]{2,5})([0-9]{2,5})')\n",
    "labelID3 = re.compile(r'n\\d\\d\\d\\d')\n",
    "labelID4 = re.compile(r'([0-9]{6})[-_]([0-9]{3})')\n",
    "\n",
    "def isMatch(label, item):\n",
    "    if re.match(label, item[1]):\n",
    "        return True\n",
    "    return False\n",
    "    \n",
    "def isSearch(label, item):\n",
    "    if not re.match(label, item[1]):\n",
    "        if re.search(label, item[1]):\n",
    "            return True\n",
    "    return False\n",
    "\n",
    "def isMatchNoID(label, item):\n",
    "    if len(item[0]) == 0 and re.match(label, item[1]):\n",
    "        return True\n",
    "    return False\n",
    "    \n",
    "def isSearchNoID(label, item):\n",
    "    if len(item[0]) == 0 and not re.match(label, item[1]):\n",
    "        if re.search(label, item[1]):\n",
    "            return True\n",
    "    return False\n",
    "    \n",
    "\n",
    "def updateMatchID(label, item, method):\n",
    "    m = re.match(label, item[1])\n",
    "    if m:\n",
    "        if len(m.groups()) >= 2:\n",
    "            item[0] = m.group(1).upper() + \"-\" + m.group(2)  # update ID\n",
    "        else:\n",
    "            item[0] = m.group(0)\n",
    "        item[5] = method + 0.1\n",
    "            \n",
    "def updateSearchID(label, item, method):\n",
    "    m = re.match(label, item[1])\n",
    "    if not m:\n",
    "        s = re.search(label, item[1])\n",
    "        if s:\n",
    "            if len(s.groups()) >= 2:\n",
    "                item[0] = s.group(1).upper() + \"-\" + s.group(2)        # update ID\n",
    "            else:\n",
    "                item[0] = s.group(0)\n",
    "            item[5] = method + 0.2\n",
    "\n",
    "def showIDCount(videoData):\n",
    "    count = 0\n",
    "    for item in videoData:\n",
    "        if len(item[0]):\n",
    "            count += 1\n",
    "    print(\"Total \", len(videoData), \" items, ID count: \", count)\n",
    "    \n",
    "# 有ID 查影片資料\n",
    "#https://www.javhoo.com/av/gyd-049/  這網站可用\n",
    "\n",
    "\n",
    "\n",
    "# AV idol name list\n",
    "# https://ja.wikipedia.org/wiki/AV%E5%A5%B3%E5%84%AA%E4%B8%80%E8%A6%A7   （日本）\n",
    "# https://zh.wikipedia.org/wiki/AV%E5%A5%B3%E5%84%AA%E5%88%97%E8%A1%A8\n",
    "# https://xcity.jp/idol/?kana=%E3%81%82&num=90&page=1"
   ]
  },
  {
   "cell_type": "code",
   "execution_count": 3,
   "metadata": {
    "collapsed": true
   },
   "outputs": [],
   "source": [
    "bb = loadData()\n",
    "len(bb)\n",
    "videoData = []\n",
    "for item in bb:\n",
    "    ID = ''\n",
    "    newfullname = ''\n",
    "    method = 0.0\n",
    "    fullname = item\n",
    "    dirname, filename = os.path.split(fullname)\n",
    "    videoData.append([ID, filename, dirname, fullname, newfullname, method])"
   ]
  },
  {
   "cell_type": "code",
   "execution_count": 4,
   "metadata": {},
   "outputs": [
    {
     "name": "stdout",
     "output_type": "stream",
     "text": [
      "Label:  re.compile('([A-Za-z]{2,5})-([0-9]{2,5})')\n",
      "Match :  3604\n",
      "Search:  2179\n",
      "Label:  re.compile('([A-Za-z]{2,5})([0-9]{2,5})')\n",
      "Match :  33\n",
      "Search:  624\n",
      "Label:  re.compile('n\\\\d\\\\d\\\\d\\\\d')\n",
      "Match :  11\n",
      "Search:  92\n",
      "Label:  re.compile('([0-9]{6})[-_]([0-9]{3})')\n",
      "Match :  159\n",
      "Search:  25\n"
     ]
    }
   ],
   "source": [
    "def tryLabel(label):\n",
    "    print(\"Label: \", label)\n",
    "    print(\"Match : \", len([x for x in videoData if isMatchNoID(label, x)]))\n",
    "    print(\"Search: \", len([x for x in videoData if isSearchNoID(label, x)]))   \n",
    "#showIDCount(videoData)\n",
    "tryLabel(labelID1)\n",
    "tryLabel(labelID2)\n",
    "tryLabel(labelID3)\n",
    "tryLabel(labelID4)"
   ]
  },
  {
   "cell_type": "code",
   "execution_count": 7,
   "metadata": {},
   "outputs": [
    {
     "data": {
      "text/plain": [
       "[]"
      ]
     },
     "execution_count": 7,
     "metadata": {},
     "output_type": "execute_result"
    }
   ],
   "source": [
    "[x for x in videoData if isSearchNoID(labelID4, x)]"
   ]
  },
  {
   "cell_type": "code",
   "execution_count": 5,
   "metadata": {
    "collapsed": true
   },
   "outputs": [],
   "source": [
    "for item in videoData:\n",
    "    if len(item[0]) == 0:\n",
    "           updateMatchID(labelID1, item, 1)\n",
    "for item in videoData:\n",
    "    if len(item[0]) == 0:\n",
    "           updateSearchID(labelID1, item, 1)  \n",
    "for item in videoData:\n",
    "    if len(item[0]) == 0:\n",
    "           updateMatchID(labelID4, item, 4)\n",
    "for item in videoData:\n",
    "    if len(item[0]) == 0:\n",
    "           updateSearchID(labelID4, item, 4)            \n",
    "for item in videoData:\n",
    "    if len(item[0]) == 0:\n",
    "           updateMatchID(labelID3, item, 3)\n",
    "for item in videoData:\n",
    "    if len(item[0]) == 0:\n",
    "           updateSearchID(labelID3, item, 3)              \n",
    "for item in videoData:\n",
    "    if len(item[0]) == 0:\n",
    "           updateMatchID(labelID2, item, 2)\n",
    "for item in videoData:\n",
    "    if len(item[0]) == 0:\n",
    "           updateSearchID(labelID2, item, 2)  \n",
    "\n",
    "            \n",
    "            \n",
    "#map(lambda item: updateMatchID(labelID1, item, 1) if len(item[0] == 0) else 0, videoData)"
   ]
  },
  {
   "cell_type": "code",
   "execution_count": 6,
   "metadata": {},
   "outputs": [
    {
     "name": "stdout",
     "output_type": "stream",
     "text": [
      "0\n",
      "0\n",
      "0\n",
      "0\n",
      "0\n",
      "0\n",
      "0\n",
      "0\n",
      "Total  8155  items, ID count:  6656\n"
     ]
    }
   ],
   "source": [
    "print(len([x for x in videoData if isMatchNoID(labelID1, x)]))\n",
    "print(len([x for x in videoData if isSearchNoID(labelID1, x)]))\n",
    "print(len([x for x in videoData if isMatchNoID(labelID2, x)]))\n",
    "print(len([x for x in videoData if isSearchNoID(labelID2, x)]))\n",
    "print(len([x for x in videoData if isMatchNoID(labelID3, x)]))\n",
    "print(len([x for x in videoData if isSearchNoID(labelID3, x)]))\n",
    "print(len([x for x in videoData if isMatchNoID(labelID4, x)]))\n",
    "print(len([x for x in videoData if isSearchNoID(labelID4, x)]))\n",
    "showIDCount(videoData)"
   ]
  },
  {
   "cell_type": "code",
   "execution_count": 9,
   "metadata": {
    "collapsed": true
   },
   "outputs": [],
   "source": [
    "a = [x for x in videoData if len(x[0]) == 0]"
   ]
  },
  {
   "cell_type": "code",
   "execution_count": 10,
   "metadata": {},
   "outputs": [
    {
     "data": {
      "text/plain": [
       "[['',\n",
       "  'KIRARI 73 汁だく ~大絶頂ハメ潮性交~ - 二宮ナナ.avi',\n",
       "  '/Volumes/VDataE/DIR I_K',\n",
       "  '/Volumes/VDataE/DIR I_K/KIRARI 73 汁だく ~大絶頂ハメ潮性交~ - 二宮ナナ.avi',\n",
       "  '',\n",
       "  0.0],\n",
       " ['',\n",
       "  '.DS_Store',\n",
       "  '/Volumes/VDataE/DIR L_O',\n",
       "  '/Volumes/VDataE/DIR L_O/.DS_Store',\n",
       "  '',\n",
       "  0.0],\n",
       " ['',\n",
       "  'MKD-S89 前田かおり KIRARI 89 死ぬほどセックスが大好きだから.mp4',\n",
       "  '/Volumes/VDataE/DIR L_O',\n",
       "  '/Volumes/VDataE/DIR L_O/MKD-S89 前田かおり KIRARI 89 死ぬほどセックスが大好きだから.mp4',\n",
       "  '',\n",
       "  0.0],\n",
       " ['',\n",
       "  'MKD-S90 Ray KIRARI 90 余裕で三連発できちゃう極上のパイパン女優 Ray.mp4',\n",
       "  '/Volumes/VDataE/DIR L_O',\n",
       "  '/Volumes/VDataE/DIR L_O/MKD-S90 Ray KIRARI 90 余裕で三連発できちゃう極上のパイパン女優 Ray.mp4',\n",
       "  '',\n",
       "  0.0],\n",
       " ['',\n",
       "  'MOODYZ 感謝祭 2005 夏之陣 01 - 三上翔子 楓アイル 月丘るな 一条なつみ 立花瞳 田中梨子 大石夏樹 松雪聖名 片桐桜.avi',\n",
       "  '/Volumes/VDataE/DIR L_O',\n",
       "  '/Volumes/VDataE/DIR L_O/MOODYZ 感謝祭 2005 夏之陣 01 - 三上翔子 楓アイル 月丘るな 一条なつみ 立花瞳 田中梨子 大石夏樹 松雪聖名 片桐桜.avi',\n",
       "  '',\n",
       "  0.0],\n",
       " ['',\n",
       "  '.DS_Store',\n",
       "  '/Volumes/VDataE/DIR P_T',\n",
       "  '/Volumes/VDataE/DIR P_T/.DS_Store',\n",
       "  '',\n",
       "  0.0],\n",
       " ['',\n",
       "  'R18-172 池田美和子 担任の爆乳は一見にしかず 2 Gカップ91cm みわこ先生.avi',\n",
       "  '/Volumes/VDataE/DIR P_T',\n",
       "  '/Volumes/VDataE/DIR P_T/R18-172 池田美和子 担任の爆乳は一見にしかず 2 Gカップ91cm みわこ先生.avi',\n",
       "  '',\n",
       "  0.0],\n",
       " ['',\n",
       "  'S2M-002 美祢藤コウ ENCORE Vol.2.avi',\n",
       "  '/Volumes/VDataE/DIR P_T',\n",
       "  '/Volumes/VDataE/DIR P_T/S2M-002 美祢藤コウ ENCORE Vol.2.avi',\n",
       "  '',\n",
       "  0.0],\n",
       " ['',\n",
       "  'S2M-006 美祢藤コウ ENCORE Vol.6.avi',\n",
       "  '/Volumes/VDataE/DIR P_T',\n",
       "  '/Volumes/VDataE/DIR P_T/S2M-006 美祢藤コウ ENCORE Vol.6.avi',\n",
       "  '',\n",
       "  0.0],\n",
       " ['',\n",
       "  'S2M-016 波多野結衣 アンコール Vol.16 臨場感溢れる濃厚なSEX ! .avi',\n",
       "  '/Volumes/VDataE/DIR P_T',\n",
       "  '/Volumes/VDataE/DIR P_T/S2M-016 波多野結衣 アンコール Vol.16 臨場感溢れる濃厚なSEX ! .avi',\n",
       "  '',\n",
       "  0.0],\n",
       " ['',\n",
       "  'S2M-017 牧野つかさ アンコール Vol.17.mpg',\n",
       "  '/Volumes/VDataE/DIR P_T',\n",
       "  '/Volumes/VDataE/DIR P_T/S2M-017 牧野つかさ アンコール Vol.17.mpg',\n",
       "  '',\n",
       "  0.0],\n",
       " ['',\n",
       "  'T28-235 妃悠愛 老人に中出し3連發 された新人ホームヘルパー.avi',\n",
       "  '/Volumes/VDataE/DIR P_T',\n",
       "  '/Volumes/VDataE/DIR P_T/T28-235 妃悠愛 老人に中出し3連發 された新人ホームヘルパー.avi',\n",
       "  '',\n",
       "  0.0],\n",
       " ['',\n",
       "  'T28-270 眞木あずさ 沙月由奈 果山ゆら 坂野由梨 友田彩也香 森ななこ 働く女のタイトスカートしか見たくない！4時間.avi',\n",
       "  '/Volumes/VDataE/DIR P_T',\n",
       "  '/Volumes/VDataE/DIR P_T/T28-270 眞木あずさ 沙月由奈 果山ゆら 坂野由梨 友田彩也香 森ななこ 働く女のタイトスカートしか見たくない！4時間.avi',\n",
       "  '',\n",
       "  0.0],\n",
       " ['',\n",
       "  'T28-378 桜井あゆ 北川エリカ 本田莉子 妊活中の姉は危険日になると僕の精子を狙って中出しSEXをねだってくる。.mp4',\n",
       "  '/Volumes/VDataE/DIR P_T',\n",
       "  '/Volumes/VDataE/DIR P_T/T28-378 桜井あゆ 北川エリカ 本田莉子 妊活中の姉は危険日になると僕の精子を狙って中出しSEXをねだってくる。.mp4',\n",
       "  '',\n",
       "  0.0],\n",
       " ['',\n",
       "  '.DS_Store',\n",
       "  '/Volumes/VDataE/DIR U_Z',\n",
       "  '/Volumes/VDataE/DIR U_Z/.DS_Store',\n",
       "  '',\n",
       "  0.0],\n",
       " ['',\n",
       "  '.DS_Store',\n",
       "  '/Volumes/VDataE/DIRZ NoID',\n",
       "  '/Volumes/VDataE/DIRZ NoID/.DS_Store',\n",
       "  '',\n",
       "  0.0],\n",
       " ['',\n",
       "  '三宮里緒 Unmoral Vol. 1 無碼-流出版.mpg',\n",
       "  '/Volumes/VDataE/DIRZ NoID',\n",
       "  '/Volumes/VDataE/DIRZ NoID/三宮里緒 Unmoral Vol. 1 無碼-流出版.mpg',\n",
       "  '',\n",
       "  0.0],\n",
       " ['',\n",
       "  '佐藤美紀 - [1Pondo] 057 - Shiho Suzuki 鈴木志帆(又名 Sato Miki 佐藤美紀).avi',\n",
       "  '/Volumes/VDataE/DIRZ NoID',\n",
       "  '/Volumes/VDataE/DIRZ NoID/佐藤美紀 - [1Pondo] 057 - Shiho Suzuki 鈴木志帆(又名 Sato Miki 佐藤美紀).avi',\n",
       "  '',\n",
       "  0.0],\n",
       " ['',\n",
       "  ' FiRST ANNiVERSARY 綺麗なお姉さん達に犯されたい - 紗奈 大塚 今野梨乃 鮎川なお 星野あかり.avi',\n",
       "  '/Volumes/WD/untitled folder',\n",
       "  '/Volumes/WD/untitled folder/ FiRST ANNiVERSARY 綺麗なお姉さん達に犯されたい - 紗奈 大塚 今野梨乃 鮎川なお 星野あかり.avi',\n",
       "  '',\n",
       "  0.0],\n",
       " ['',\n",
       "  '(AV)桃咲まなみ.鈴花.進藤ゆき.並木るか.東野愛鈴_美人妻乱交中出しコンパ 2(中文字幕).avi',\n",
       "  '/Volumes/WD/untitled folder',\n",
       "  '/Volumes/WD/untitled folder/(AV)桃咲まなみ.鈴花.進藤ゆき.並木るか.東野愛鈴_美人妻乱交中出しコンパ 2(中文字幕).avi',\n",
       "  '',\n",
       "  0.0],\n",
       " ['',\n",
       "  '(Bd-m03)Que - Avへイドル6人の厳選名場面 -\\xa0 \\xa0青木瀬奈 黒澤エレナ 瞳めい おおきゆい 緒川みずき 吉川萌.avi',\n",
       "  '/Volumes/WD/untitled folder',\n",
       "  '/Volumes/WD/untitled folder/(Bd-m03)Que - Avへイドル6人の厳選名場面 -\\xa0 \\xa0青木瀬奈 黒澤エレナ 瞳めい おおきゆい 緒川みずき 吉川萌.avi',\n",
       "  '',\n",
       "  0.0],\n",
       " ['',\n",
       "  '(大亂交)(內射)[REDHOT Collection] Red Hot Jam Vol.34極上泡姬物語 - 瀬咲るな Runa Sesaki，Sakurano.avi',\n",
       "  '/Volumes/WD/untitled folder',\n",
       "  '/Volumes/WD/untitled folder/(大亂交)(內射)[REDHOT Collection] Red Hot Jam Vol.34極上泡姬物語 - 瀬咲るな Runa Sesaki，Sakurano.avi',\n",
       "  '',\n",
       "  0.0],\n",
       " ['',\n",
       "  '.DS_Store',\n",
       "  '/Volumes/WD/untitled folder',\n",
       "  '/Volumes/WD/untitled folder/.DS_Store',\n",
       "  '',\n",
       "  0.0],\n",
       " ['',\n",
       "  '._ FiRST ANNiVERSARY 綺麗なお姉さん達に犯されたい - 紗奈 大塚 今野梨乃 鮎川なお 星野あかり.avi',\n",
       "  '/Volumes/WD/untitled folder',\n",
       "  '/Volumes/WD/untitled folder/._ FiRST ANNiVERSARY 綺麗なお姉さん達に犯されたい - 紗奈 大塚 今野梨乃 鮎川なお 星野あかり.avi',\n",
       "  '',\n",
       "  0.0],\n",
       " ['',\n",
       "  '._(AV)桃咲まなみ.鈴花.進藤ゆき.並木るか.東野愛鈴_美人妻乱交中出しコンパ 2(中文字幕).avi',\n",
       "  '/Volumes/WD/untitled folder',\n",
       "  '/Volumes/WD/untitled folder/._(AV)桃咲まなみ.鈴花.進藤ゆき.並木るか.東野愛鈴_美人妻乱交中出しコンパ 2(中文字幕).avi',\n",
       "  '',\n",
       "  0.0],\n",
       " ['',\n",
       "  '._07.[Magic Banana] Vol.38 Emi Asaka 坂上友香, Yuka Sakagami 香えみ.avi',\n",
       "  '/Volumes/WD/untitled folder',\n",
       "  '/Volumes/WD/untitled folder/._07.[Magic Banana] Vol.38 Emi Asaka 坂上友香, Yuka Sakagami 香えみ.avi',\n",
       "  '',\n",
       "  0.0],\n",
       " ['',\n",
       "  '._Anabolic - The Gangbang Girl 23 (Teri Starr, Oceane, Heaven Leigh).mpg',\n",
       "  '/Volumes/WD/untitled folder',\n",
       "  '/Volumes/WD/untitled folder/._Anabolic - The Gangbang Girl 23 (Teri Starr, Oceane, Heaven Leigh).mpg',\n",
       "  '',\n",
       "  0.0],\n",
       " ['',\n",
       "  '._AOI(母),SARINA(姐),麻生岬(妹)-被小雞雞敲詐喜歡,欺侮母親姊妹侵犯(M).avi',\n",
       "  '/Volumes/WD/untitled folder',\n",
       "  '/Volumes/WD/untitled folder/._AOI(母),SARINA(姐),麻生岬(妹)-被小雞雞敲詐喜歡,欺侮母親姊妹侵犯(M).avi',\n",
       "  '',\n",
       "  0.0],\n",
       " ['',\n",
       "  '._Dreamgirlz (2007) Katja Kassin Jenna Haze Courtney Cummz Amy Ried Maya Hills Bree Olson Carmen Luvana.avi',\n",
       "  '/Volumes/WD/untitled folder',\n",
       "  '/Volumes/WD/untitled folder/._Dreamgirlz (2007) Katja Kassin Jenna Haze Courtney Cummz Amy Ried Maya Hills Bree Olson Carmen Luvana.avi',\n",
       "  '',\n",
       "  0.0],\n",
       " ['',\n",
       "  '._KAORI-SEXSEXSEX.avi',\n",
       "  '/Volumes/WD/untitled folder',\n",
       "  '/Volumes/WD/untitled folder/._KAORI-SEXSEXSEX.avi',\n",
       "  '',\n",
       "  0.0],\n",
       " ['',\n",
       "  '._OPPAI女教師スペシャル 共演 松嶋れいな, 真田春香, 羽田夕夏.avi',\n",
       "  '/Volumes/WD/untitled folder',\n",
       "  '/Volumes/WD/untitled folder/._OPPAI女教師スペシャル 共演 松嶋れいな, 真田春香, 羽田夕夏.avi',\n",
       "  '',\n",
       "  0.0],\n",
       " ['',\n",
       "  '._Public Sex-Everything is Allowed 2009 RUs Pite.avi',\n",
       "  '/Volumes/WD/untitled folder',\n",
       "  '/Volumes/WD/untitled folder/._Public Sex-Everything is Allowed 2009 RUs Pite.avi',\n",
       "  '',\n",
       "  0.0],\n",
       " ['',\n",
       "  '._Rei Aoki 外 - kira☆kira SPECIAL LIP FUCK -激しく絡み合う唇と肉体-\\u3000青木玲 大塚咲 春風えみ 真田春香.avi',\n",
       "  '/Volumes/WD/untitled folder',\n",
       "  '/Volumes/WD/untitled folder/._Rei Aoki 外 - kira☆kira SPECIAL LIP FUCK -激しく絡み合う唇と肉体-\\u3000青木玲 大塚咲 春風えみ 真田春香.avi',\n",
       "  '',\n",
       "  0.0],\n",
       " ['',\n",
       "  '._The Gangbang Girl #35 Full Movie (Ariana Jollee - Audrey Hollander, Ashley Long & Lena Julliett).avi',\n",
       "  '/Volumes/WD/untitled folder',\n",
       "  '/Volumes/WD/untitled folder/._The Gangbang Girl #35 Full Movie (Ariana Jollee - Audrey Hollander, Ashley Long & Lena Julliett).avi',\n",
       "  '',\n",
       "  0.0],\n",
       " ['',\n",
       "  '._THE PREMIUM V.I.P.未公開 乱交プレミアム完全版 小川あｓ美 原更紗 かすみりさ 冬.avi',\n",
       "  '/Volumes/WD/untitled folder',\n",
       "  '/Volumes/WD/untitled folder/._THE PREMIUM V.I.P.未公開 乱交プレミアム完全版 小川あｓ美 原更紗 かすみりさ 冬.avi',\n",
       "  '',\n",
       "  0.0],\n",
       " ['',\n",
       "  '._[Digital Playground] - Deeper 10 (2008.06, Lacie Heart, Lindsey Meadows, Carmel Moore, Shay Jordan).avi',\n",
       "  '/Volumes/WD/untitled folder',\n",
       "  '/Volumes/WD/untitled folder/._[Digital Playground] - Deeper 10 (2008.06, Lacie Heart, Lindsey Meadows, Carmel Moore, Shay Jordan).avi',\n",
       "  '',\n",
       "  0.0],\n",
       " ['',\n",
       "  '._[Glory Quest] 悲しきイモ奴隷 東北からた派遣巨乳家政婦 - 明星ちかげ 中山かすみ[2009-04].avi',\n",
       "  '/Volumes/WD/untitled folder',\n",
       "  '/Volumes/WD/untitled folder/._[Glory Quest] 悲しきイモ奴隷 東北からた派遣巨乳家政婦 - 明星ちかげ 中山かすみ[2009-04].avi',\n",
       "  '',\n",
       "  0.0],\n",
       " ['',\n",
       "  '._[映画] (Vシネマ) 触手 狙われた通勤電車 (2002邦画 天野こころ 沢木まゆみ).mpg',\n",
       "  '/Volumes/WD/untitled folder',\n",
       "  '/Volumes/WD/untitled folder/._[映画] (Vシネマ) 触手 狙われた通勤電車 (2002邦画 天野こころ 沢木まゆみ).mpg',\n",
       "  '',\n",
       "  0.0],\n",
       " ['',\n",
       "  '._かすみ果穂 [IdeaPocket]果穂老師的誘惑課程 かすみ果穂(by 摳阿巴).avi',\n",
       "  '/Volumes/WD/untitled folder',\n",
       "  '/Volumes/WD/untitled folder/._かすみ果穂 [IdeaPocket]果穂老師的誘惑課程 かすみ果穂(by 摳阿巴).avi',\n",
       "  '',\n",
       "  0.0],\n",
       " ['',\n",
       "  '._つぼみ SOD つぼみ - つぼみ式早漏チ○ポ化合宿 2009-07.avi',\n",
       "  '/Volumes/WD/untitled folder',\n",
       "  '/Volumes/WD/untitled folder/._つぼみ SOD つぼみ - つぼみ式早漏チ○ポ化合宿 2009-07.avi',\n",
       "  '',\n",
       "  0.0],\n",
       " ['',\n",
       "  '._つぼみ [Tora-Tora-Tora] Tora Tora Platinum Vol.40 - つぼみ(Tsubomi).avi',\n",
       "  '/Volumes/WD/untitled folder',\n",
       "  '/Volumes/WD/untitled folder/._つぼみ [Tora-Tora-Tora] Tora Tora Platinum Vol.40 - つぼみ(Tsubomi).avi',\n",
       "  '',\n",
       "  0.0],\n",
       " ['',\n",
       "  '._やりたい夜 妻･母･嫁の悶え~瀬名涼子,美里流里,桐島秋子,小池絵美子(2006-04-10).avi',\n",
       "  '/Volumes/WD/untitled folder',\n",
       "  '/Volumes/WD/untitled folder/._やりたい夜 妻･母･嫁の悶え~瀬名涼子,美里流里,桐島秋子,小池絵美子(2006-04-10).avi',\n",
       "  '',\n",
       "  0.0],\n",
       " ['',\n",
       "  '._キャリア凌辱 01 鈴木杏里 英里奈 マリエ.avi',\n",
       "  '/Volumes/WD/untitled folder',\n",
       "  '/Volumes/WD/untitled folder/._キャリア凌辱 01 鈴木杏里 英里奈 マリエ.avi',\n",
       "  '',\n",
       "  0.0],\n",
       " ['',\n",
       "  '._ギリモザ OLびんびん物語 誘惑編 麻美ゆま 初音みのり 藤浦めぐ 恵けい かすみりさ.avi',\n",
       "  '/Volumes/WD/untitled folder',\n",
       "  '/Volumes/WD/untitled folder/._ギリモザ OLびんびん物語 誘惑編 麻美ゆま 初音みのり 藤浦めぐ 恵けい かすみりさ.avi',\n",
       "  '',\n",
       "  0.0],\n",
       " ['',\n",
       "  '._ギリモザ OLびんびん物語 陵辱編 麻美ゆま 初音みのり 藤浦めぐ 恵けい かすみりさ.avi',\n",
       "  '/Volumes/WD/untitled folder',\n",
       "  '/Volumes/WD/untitled folder/._ギリモザ OLびんびん物語 陵辱編 麻美ゆま 初音みのり 藤浦めぐ 恵けい かすみりさ.avi',\n",
       "  '',\n",
       "  0.0],\n",
       " ['',\n",
       "  '._パイズリ狹射\\u3000トリプル痴女大亂交 妃乃ひかり 松坂みるく 一ノ瀬あきら.avi',\n",
       "  '/Volumes/WD/untitled folder',\n",
       "  '/Volumes/WD/untitled folder/._パイズリ狹射\\u3000トリプル痴女大亂交 妃乃ひかり 松坂みるく 一ノ瀬あきら.avi',\n",
       "  '',\n",
       "  0.0],\n",
       " ['',\n",
       "  '._一ノ瀬あきら 社長秘書はインテリ痴女 一ノ瀬あきら.avi',\n",
       "  '/Volumes/WD/untitled folder',\n",
       "  '/Volumes/WD/untitled folder/._一ノ瀬あきら 社長秘書はインテリ痴女 一ノ瀬あきら.avi',\n",
       "  '',\n",
       "  0.0],\n",
       " ['',\n",
       "  '._一ノ瀬アメリ - 腰ふり! 密着ヌキ狂い!.avi',\n",
       "  '/Volumes/WD/untitled folder',\n",
       "  '/Volumes/WD/untitled folder/._一ノ瀬アメリ - 腰ふり! 密着ヌキ狂い!.avi',\n",
       "  '',\n",
       "  0.0],\n",
       " ['',\n",
       "  '._上原留華 & 姬崎 & 岡野美憂 & 長谷川瞳 & 月野 & 紗月結花 - 忍 - Shinobi -.avi',\n",
       "  '/Volumes/WD/untitled folder',\n",
       "  '/Volumes/WD/untitled folder/._上原留華 & 姬崎 & 岡野美憂 & 長谷川瞳 & 月野 & 紗月結花 - 忍 - Shinobi -.avi',\n",
       "  '',\n",
       "  0.0],\n",
       " ['',\n",
       "  '._世界で一番大きなチンポを持つ男のSEX 妃乃ひかり 大塚咲 堀口奈津美 村上里沙.avi',\n",
       "  '/Volumes/WD/untitled folder',\n",
       "  '/Volumes/WD/untitled folder/._世界で一番大きなチンポを持つ男のSEX 妃乃ひかり 大塚咲 堀口奈津美 村上里沙.avi',\n",
       "  '',\n",
       "  0.0]]"
      ]
     },
     "execution_count": 10,
     "metadata": {},
     "output_type": "execute_result"
    }
   ],
   "source": [
    "a[900:950]"
   ]
  },
  {
   "cell_type": "code",
   "execution_count": 8,
   "metadata": {},
   "outputs": [
    {
     "data": {
      "text/plain": [
       "8155"
      ]
     },
     "execution_count": 8,
     "metadata": {},
     "output_type": "execute_result"
    }
   ],
   "source": [
    "aa = [n for n in bb if not n.endswith(\"mta\")]\n",
    "len(aa)"
   ]
  },
  {
   "cell_type": "code",
   "execution_count": 9,
   "metadata": {
    "collapsed": true
   },
   "outputs": [],
   "source": [
    "cc = [filename for filename in aa if any(name in filename for name in (\"麻美ゆ\", \"麻美ゆ\"))]"
   ]
  },
  {
   "cell_type": "code",
   "execution_count": 6,
   "metadata": {},
   "outputs": [
    {
     "ename": "NameError",
     "evalue": "name 'cc' is not defined",
     "output_type": "error",
     "traceback": [
      "\u001b[0;31m---------------------------------------------------------------------------\u001b[0m",
      "\u001b[0;31mNameError\u001b[0m                                 Traceback (most recent call last)",
      "\u001b[0;32m<ipython-input-6-72388809dc7f>\u001b[0m in \u001b[0;36m<module>\u001b[0;34m()\u001b[0m\n\u001b[1;32m      2\u001b[0m \u001b[0mlabel\u001b[0m \u001b[0;34m=\u001b[0m \u001b[0mre\u001b[0m\u001b[0;34m.\u001b[0m\u001b[0mcompile\u001b[0m\u001b[0;34m(\u001b[0m\u001b[0;34mr'([A-Za-z]{2,5})-([0-9]{2,5})'\u001b[0m\u001b[0;34m)\u001b[0m\u001b[0;34m\u001b[0m\u001b[0m\n\u001b[1;32m      3\u001b[0m \u001b[0;31m#[file for file in cc if not re.match(label, file)]\u001b[0m\u001b[0;34m\u001b[0m\u001b[0;34m\u001b[0m\u001b[0m\n\u001b[0;32m----> 4\u001b[0;31m \u001b[0mfolder_file\u001b[0m \u001b[0;34m=\u001b[0m \u001b[0;34m[\u001b[0m\u001b[0mfile\u001b[0m \u001b[0;32mfor\u001b[0m \u001b[0mfullname\u001b[0m \u001b[0;32min\u001b[0m \u001b[0mcc\u001b[0m \u001b[0;32mfor\u001b[0m \u001b[0mfile\u001b[0m \u001b[0;32min\u001b[0m \u001b[0mos\u001b[0m\u001b[0;34m.\u001b[0m\u001b[0mpath\u001b[0m\u001b[0;34m.\u001b[0m\u001b[0msplit\u001b[0m\u001b[0;34m(\u001b[0m\u001b[0mfullname\u001b[0m\u001b[0;34m)\u001b[0m\u001b[0;34m]\u001b[0m\u001b[0;34m\u001b[0m\u001b[0m\n\u001b[0m",
      "\u001b[0;31mNameError\u001b[0m: name 'cc' is not defined"
     ]
    }
   ],
   "source": [
    "import re\n",
    "label = re.compile(r'([A-Za-z]{2,5})-([0-9]{2,5})')\n",
    "#[file for file in cc if not re.match(label, file)]\n",
    "folder_file = [file for fullname in cc for file in os.path.split(fullname)]"
   ]
  },
  {
   "cell_type": "code",
   "execution_count": 31,
   "metadata": {
    "collapsed": true
   },
   "outputs": [],
   "source": []
  },
  {
   "cell_type": "code",
   "execution_count": 1,
   "metadata": {
    "collapsed": true
   },
   "outputs": [],
   "source": []
  },
  {
   "cell_type": "code",
   "execution_count": 2,
   "metadata": {},
   "outputs": [
    {
     "data": {
      "text/plain": [
       "8155"
      ]
     },
     "execution_count": 2,
     "metadata": {},
     "output_type": "execute_result"
    }
   ],
   "source": [
    "len(bb)"
   ]
  },
  {
   "cell_type": "code",
   "execution_count": 3,
   "metadata": {},
   "outputs": [
    {
     "data": {
      "text/plain": [
       "['/Volumes/Folder1/A_250/仲丘たまき [DWD-088] 高飛車な高身長の女社長が部下たちを犯しまくりたい！.mp4',\n",
       " '/Volumes/Folder1/A_250/仲丘たまき 淫悪姉 妹の旦那を誘惑して犯すドスケベ姉(NITR-025).avi',\n",
       " '/Volumes/Folder1/A_250/働くオンナ喰い 5 今村楓 仲丘たまき 眞木あずさ_YRZ-082.avi',\n",
       " '/Volumes/Folder1/A_250/片岡まきな - WSS-241 - ツン顔でイキガマンするオンナ教師 - Nakaoka Tamaki(仲丘たまき).avi',\n",
       " '/Volumes/Folder1/Series 2/仲丘たまき 長身美女の接吻、フェラチオ、腰振りSEX sero0167.avi',\n",
       " '/Volumes/Folder1/Series 2/仲丘たまき(片岡まきな) 短髮 170cm キマリすぎた女教師 TYOD-196.avi',\n",
       " '/Volumes/Folder1/Series 2/仲丘たまき-美脚パンスト女教師.avi',\n",
       " '/Volumes/VDataE/DIR A_D/ADN-015 仲丘たまき 白昼の恋.avi',\n",
       " '/Volumes/VDataE/DIR A_D/ADN-020 仲丘たまき 吉田花 恋する妻達3.avi',\n",
       " '/Volumes/VDataE/DIR A_D/BEB-091 仲丘たまき 保健室の先生-生徒の肉棒を喰い漁る白衣のド淫乱養護教論.avi',\n",
       " '/Volumes/VDataE/DIR I_K/JUX-105 仲丘たまき 短髮 170cm, 義父色に染められた美嫁 OL.avi',\n",
       " '/Volumes/VDataE/DIR I_K/KOZ-004 仲丘たまき 友達の姉ちゃんに中出し.AVI',\n",
       " '/Volumes/VDataE/DIR L_O/MIRD-132 仲丘たまき, 山本美和子, 澤村レイコ, 神波多一花 高身長痴女の小さいオッサン狩り.avi',\n",
       " '/Volumes/VDataE/DIR P_T/RBD-572 仲丘たまき ライフコンサルタント 恥辱の中出しセミナー.mkv',\n",
       " '/Volumes/VDataE/DIR U_Z/VDD-086 仲丘たまき 秘書in… ［脅迫スイートルーム］ Secretary Tamaki Y25.avi']"
      ]
     },
     "execution_count": 3,
     "metadata": {},
     "output_type": "execute_result"
    }
   ],
   "source": [
    "dd = [filename for filename in bb if any(name in filename for name in (\"仲丘たまき\", \"仲丘たまき\"))]\n",
    "dd"
   ]
  },
  {
   "cell_type": "code",
   "execution_count": 22,
   "metadata": {},
   "outputs": [
    {
     "data": {
      "text/plain": [
       "('/Volumes/VDataE/DIR I_K', 'JUX-291 菅原直美 母の友人.avi')"
      ]
     },
     "execution_count": 22,
     "metadata": {},
     "output_type": "execute_result"
    }
   ],
   "source": [
    "import os\n",
    "nn = '/Volumes/VDataE/DIR I_K/JUX-291 菅原直美 母の友人.avi'\n",
    "os.path.split(nn)"
   ]
  },
  {
   "cell_type": "code",
   "execution_count": 23,
   "metadata": {},
   "outputs": [
    {
     "name": "stdout",
     "output_type": "stream",
     "text": [
      "/Volumes/Folder1/A_250\n",
      "松嶋れいな(Matsushima Reina) & 小澤マリア & 芹沢直美-kira☆kira SPECIAL GANGBANG☆3MIX 前編(KISD-003).avi\n",
      "/Volumes/Folder1/A_250\n",
      "松嶋れいな(Matsushima Reina) & 小澤マリア & 芹沢直美-kira☆kira SPECIAL GANGBANG☆3MIX 後編(KISD-003).avi\n",
      "/Volumes/Folder1/A_250\n",
      "波多野結衣 吉美さあや カリビアンコム 122713-508  半沢直美 〜痴女の10倍返し！〜前編〜 122713-508-carib-mid.mp4\n",
      "/Volumes/Folder1/Series 1\n",
      "芹沢直美 (Serizawa Naomi),星野(Akari Hoshino)-淫女人，亂交Hard Core.avi\n",
      "/Volumes/Folder1/Series 1\n",
      "芹沢直美 Nao Ayukawa (鮎川なお)-Serizawa Naomi 芹-直美 - 美腿 Debut By Marvin.mpg\n",
      "/Volumes/Folder1/Series 1\n",
      "芹沢直美 Naomi Serizawa 芹澤直美(芹沢直美) Shkd 305 死夜悪 夫の目の前で犯されて 仕組まれた絆.avi\n",
      "/Volumes/Folder1/Series 1\n",
      "芹沢直美 Serizawa Naomi 芹澤直美 - 誘惑女教師 芹沢直美(PGD099).avi\n",
      "/Volumes/Folder1/Series 1\n",
      "芹沢直美 感じるレイプ？！ 女教師 中出し20連発 芹沢直美.avi\n",
      "/Volumes/Folder1/Series 1\n",
      "芹沢直美Serizawa Naomi 芹沢直美 - お姉さまの恥的フェロモン　誘う卑猥な腰つき(41hrdv00078)..avi\n",
      "/Volumes/VData\n",
      "BSD-029 芹沢直美 強淫絶頂・3.avi\n",
      "/Volumes/VData\n",
      "LLD-006 芹沢直美 僕の痴女医.avi\n",
      "/Volumes/VDataE/DIR I_K\n",
      "JUX-291 菅原直美 母の友人.avi\n"
     ]
    },
    {
     "data": {
      "text/plain": [
       "24"
      ]
     },
     "execution_count": 23,
     "metadata": {},
     "output_type": "execute_result"
    }
   ],
   "source": [
    "import os\n",
    "folder_file = [file for fullname in dd for file in os.path.split(fullname)]\n",
    "for a in folder_file:\n",
    "    print(a)\n",
    "len(folder_file)"
   ]
  },
  {
   "cell_type": "code",
   "execution_count": 191,
   "metadata": {},
   "outputs": [
    {
     "name": "stdout",
     "output_type": "stream",
     "text": [
      "lt\n",
      "ko\n"
     ]
    }
   ],
   "source": [
    "from langdetect import detect\n",
    "nn = '松嶋れいな 小澤マリア 芹沢直美-kira☆kira SPECIAL GANGBANG☆3MIX 前編 KISD-003() dat'\n",
    "nn2 = '僕の痴女医'\n",
    "print(detect(nn))\n",
    "print(detect(nn2))"
   ]
  },
  {
   "cell_type": "code",
   "execution_count": 26,
   "metadata": {
    "collapsed": true
   },
   "outputs": [
    {
     "name": "stdout",
     "output_type": "stream",
     "text": [
      "/Volumes/Folder1/A_250 松嶋れいな(Matsushima Reina) & 小澤マリア & 芹沢直美-kira☆kira SPECIAL GANGBANG☆3MIX 前編(KISD-003).avi\n",
      "KISD-003%%%松嶋れいな(Matsushima Reina) & 小澤マリア & 芹沢直美-kira☆kira SPECIAL GANGBANG☆3MIX 前編(KISD-003).avi\n",
      "/Volumes/Folder1/A_250 松嶋れいな(Matsushima Reina) & 小澤マリア & 芹沢直美-kira☆kira SPECIAL GANGBANG☆3MIX 後編(KISD-003).avi\n",
      "KISD-003%%%松嶋れいな(Matsushima Reina) & 小澤マリア & 芹沢直美-kira☆kira SPECIAL GANGBANG☆3MIX 後編(KISD-003).avi\n",
      "/Volumes/Folder1/A_250 波多野結衣 吉美さあや カリビアンコム 122713-508  半沢直美 〜痴女の10倍返し！〜前編〜 122713-508-carib-mid.mp4\n",
      "/Volumes/Folder1/Series 1 芹沢直美 (Serizawa Naomi),星野(Akari Hoshino)-淫女人，亂交Hard Core.avi\n",
      "/Volumes/Folder1/Series 1 芹沢直美 Nao Ayukawa (鮎川なお)-Serizawa Naomi 芹-直美 - 美腿 Debut By Marvin.mpg\n",
      "/Volumes/Folder1/Series 1 芹沢直美 Naomi Serizawa 芹澤直美(芹沢直美) Shkd 305 死夜悪 夫の目の前で犯されて 仕組まれた絆.avi\n",
      "/Volumes/Folder1/Series 1 芹沢直美 Serizawa Naomi 芹澤直美 - 誘惑女教師 芹沢直美(PGD099).avi\n",
      "/Volumes/Folder1/Series 1 芹沢直美 感じるレイプ？！ 女教師 中出し20連発 芹沢直美.avi\n",
      "/Volumes/Folder1/Series 1 芹沢直美Serizawa Naomi 芹沢直美 - お姉さまの恥的フェロモン　誘う卑猥な腰つき(41hrdv00078)..avi\n",
      "/Volumes/VData BSD-029 芹沢直美 強淫絶頂・3.avi\n",
      "/Volumes/VData LLD-006 芹沢直美 僕の痴女医.avi\n",
      "/Volumes/VDataE/DIR I_K JUX-291 菅原直美 母の友人.avi\n"
     ]
    }
   ],
   "source": []
  },
  {
   "cell_type": "code",
   "execution_count": 29,
   "metadata": {},
   "outputs": [
    {
     "data": {
      "text/plain": [
       "[('/Volumes/VDataE/DIR I_K', '/Volumes/Folder1/A_250'),\n",
       " ('/Volumes/VDataE/DIR I_K',\n",
       "  '松嶋れいな(Matsushima Reina) & 小澤マリア & 芹沢直美-kira☆kira SPECIAL GANGBANG☆3MIX 前編(KISD-003).avi'),\n",
       " ('/Volumes/VDataE/DIR I_K', '/Volumes/Folder1/A_250'),\n",
       " ('/Volumes/VDataE/DIR I_K',\n",
       "  '松嶋れいな(Matsushima Reina) & 小澤マリア & 芹沢直美-kira☆kira SPECIAL GANGBANG☆3MIX 後編(KISD-003).avi'),\n",
       " ('/Volumes/VDataE/DIR I_K', '/Volumes/Folder1/A_250'),\n",
       " ('/Volumes/VDataE/DIR I_K',\n",
       "  '波多野結衣 吉美さあや カリビアンコム 122713-508  半沢直美 〜痴女の10倍返し！〜前編〜 122713-508-carib-mid.mp4'),\n",
       " ('/Volumes/VDataE/DIR I_K', '/Volumes/Folder1/Series 1'),\n",
       " ('/Volumes/VDataE/DIR I_K',\n",
       "  '芹沢直美 (Serizawa Naomi),星野(Akari Hoshino)-淫女人，亂交Hard Core.avi'),\n",
       " ('/Volumes/VDataE/DIR I_K', '/Volumes/Folder1/Series 1'),\n",
       " ('/Volumes/VDataE/DIR I_K',\n",
       "  '芹沢直美 Nao Ayukawa (鮎川なお)-Serizawa Naomi 芹-直美 - 美腿 Debut By Marvin.mpg'),\n",
       " ('/Volumes/VDataE/DIR I_K', '/Volumes/Folder1/Series 1'),\n",
       " ('/Volumes/VDataE/DIR I_K',\n",
       "  '芹沢直美 Naomi Serizawa 芹澤直美(芹沢直美) Shkd 305 死夜悪 夫の目の前で犯されて 仕組まれた絆.avi'),\n",
       " ('/Volumes/VDataE/DIR I_K', '/Volumes/Folder1/Series 1'),\n",
       " ('/Volumes/VDataE/DIR I_K',\n",
       "  '芹沢直美 Serizawa Naomi 芹澤直美 - 誘惑女教師 芹沢直美(PGD099).avi'),\n",
       " ('/Volumes/VDataE/DIR I_K', '/Volumes/Folder1/Series 1'),\n",
       " ('/Volumes/VDataE/DIR I_K', '芹沢直美 感じるレイプ？！ 女教師 中出し20連発 芹沢直美.avi'),\n",
       " ('/Volumes/VDataE/DIR I_K', '/Volumes/Folder1/Series 1'),\n",
       " ('/Volumes/VDataE/DIR I_K',\n",
       "  '芹沢直美Serizawa Naomi 芹沢直美 - お姉さまの恥的フェロモン\\u3000誘う卑猥な腰つき(41hrdv00078)..avi'),\n",
       " ('/Volumes/VDataE/DIR I_K', '/Volumes/VData'),\n",
       " ('/Volumes/VDataE/DIR I_K', 'BSD-029 芹沢直美 強淫絶頂・3.avi'),\n",
       " ('/Volumes/VDataE/DIR I_K', '/Volumes/VData'),\n",
       " ('/Volumes/VDataE/DIR I_K', 'LLD-006 芹沢直美 僕の痴女医.avi'),\n",
       " ('/Volumes/VDataE/DIR I_K', '/Volumes/VDataE/DIR I_K'),\n",
       " ('/Volumes/VDataE/DIR I_K', 'JUX-291 菅原直美 母の友人.avi')]"
      ]
     },
     "execution_count": 29,
     "metadata": {},
     "output_type": "execute_result"
    }
   ],
   "source": [
    "[(path, file) for n in dd for file in os.path.split(n)]"
   ]
  },
  {
   "cell_type": "code",
   "execution_count": 51,
   "metadata": {},
   "outputs": [
    {
     "name": "stdout",
     "output_type": "stream",
     "text": [
      "Gyd-049 Gyd 049 GYD-049%%%\n"
     ]
    }
   ],
   "source": [
    "test = \"東野愛鈴-(Prestige)狂乱アクメ 執行番号25(Gyd-049).avi\"\n",
    "label = re.compile(r'([A-Za-z]{2,6})-([0-9]{2,5})')\n",
    "m = label.search(test)\n",
    "print (m.group(0), m.group(1), m.group(2), m.group(1).upper()+'-'+m.group(2)+\"%%%\")\n",
    "\n",
    "if re.match(label, test):\n",
    "    print (\"Match!\")"
   ]
  },
  {
   "cell_type": "code",
   "execution_count": 30,
   "metadata": {},
   "outputs": [
    {
     "data": {
      "text/plain": [
       "21386"
      ]
     },
     "execution_count": 30,
     "metadata": {},
     "output_type": "execute_result"
    }
   ],
   "source": [
    "len(bb)"
   ]
  },
  {
   "cell_type": "code",
   "execution_count": null,
   "metadata": {
    "collapsed": true
   },
   "outputs": [],
   "source": []
  }
 ],
 "metadata": {
  "kernelspec": {
   "display_name": "Python 3",
   "language": "python",
   "name": "python3"
  },
  "language_info": {
   "codemirror_mode": {
    "name": "ipython",
    "version": 3
   },
   "file_extension": ".py",
   "mimetype": "text/x-python",
   "name": "python",
   "nbconvert_exporter": "python",
   "pygments_lexer": "ipython3",
   "version": "3.6.0"
  }
 },
 "nbformat": 4,
 "nbformat_minor": 2
}
