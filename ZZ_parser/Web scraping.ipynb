{
 "cells": [
  {
   "cell_type": "code",
   "execution_count": 2,
   "metadata": {
    "collapsed": false
   },
   "outputs": [],
   "source": [
    "from bs4 import BeautifulSoup\n",
    "\n",
    "import requests\n",
    "\n",
    "url = \"https://www.javhoo.com/av/gyd-049/\"\n",
    "\n",
    "r  = requests.get(url)\n",
    "\n",
    "data = r.text\n",
    "\n",
    "soup = BeautifulSoup(data, \"lxml\")\n",
    "\n",
    "#for link in soup.find_all('a'):\n",
    "#    print(link.get('href'))\n",
    "    \n"
   ]
  },
  {
   "cell_type": "code",
   "execution_count": null,
   "metadata": {
    "collapsed": false
   },
   "outputs": [],
   "source": [
    "a = soup.find_all(\"img\", class_=\"alignnone size-full\")\n",
    "b = soup.find_all(\"h1\", class_=\"h3-size entry-title\")\n",
    "print (a, b)"
   ]
  },
  {
   "cell_type": "code",
   "execution_count": 3,
   "metadata": {
    "collapsed": false
   },
   "outputs": [
    {
     "name": "stdout",
     "output_type": "stream",
     "text": [
      "[<div class=\"project_info\"><p><span class=\"header\">番號:</span><span class=\"categories\">gyd-049 / <span class=\"category-link\"><a href=\"https://www.javhoo.com/./censored/\">有碼</a></span></span></p><p><span class=\"header\">發行日期:</span>2000-01-01</p><p><span class=\"header\">長度:</span>119分鐘</p><p><span class=\"header\">導演:</span></p><p><span class=\"header\">製作商:</span><a href=\"https://www.javhoo.com/studio/%e3%83%97%e3%83%ac%e3%82%b9%e3%83%86%e3%83%bc%e3%82%b8/\" rel=\"tag\">プレステージ</a></p><p><span class=\"header\">發行商:</span><a href=\"https://www.javhoo.com/label/guilty/\" rel=\"tag\">GUILTY</a></p><p><span class=\"header\">系列:</span><a href=\"https://www.javhoo.com/series/%e7%8b%82%e4%b9%b1%e3%82%a2%e3%82%af%e3%83%a1/\" rel=\"tag\">狂乱アクメ</a></p><p class=\"header\">類別:</p><p><span class=\"genre\"><a href=\"https://www.javhoo.com/genre/%e5%96%ae%e9%ab%94%e4%bd%9c%e5%93%81/\" rel=\"tag\">單體作品</a><a href=\"https://www.javhoo.com/genre/%e5%a4%9ap/\" rel=\"tag\">多P</a><a href=\"https://www.javhoo.com/genre/%e6%8b%98%e6%9d%9f/\" rel=\"tag\">拘束</a><a href=\"https://www.javhoo.com/genre/%e6%8c%89%e6%91%a9%e6%a3%92/\" rel=\"tag\">按摩棒</a></span></p><p class=\"header\">演員:</p><p><span class=\"genre\"><a href=\"https://www.javhoo.com/star/%e6%9d%b1%e9%87%8e%e6%84%9b%e9%88%b4/\" rel=\"tag\">東野愛鈴</a></span></p></div>]\n"
     ]
    }
   ],
   "source": [
    "c = soup.find_all(\"div\", class_=\"project_info\")\n",
    "print(c)"
   ]
  },
  {
   "cell_type": "code",
   "execution_count": null,
   "metadata": {
    "collapsed": false
   },
   "outputs": [],
   "source": []
  },
  {
   "cell_type": "code",
   "execution_count": null,
   "metadata": {
    "collapsed": false
   },
   "outputs": [],
   "source": [
    "url2 = \"https://www.javhoo.com/av/mxgs-943/\"\n",
    "r  = requests.get(url2)\n",
    "data = r.text\n",
    "soup = BeautifulSoup(data, \"lxml\")\n",
    "c = soup.find_all(\"div\", class_=\"project_info\")\n",
    "print(c)\n"
   ]
  },
  {
   "cell_type": "code",
   "execution_count": 127,
   "metadata": {
    "collapsed": false
   },
   "outputs": [
    {
     "name": "stdout",
     "output_type": "stream",
     "text": [
      "@ 番號:\n",
      "++  gyd-049 / 有碼\n",
      "@ 發行日期:\n",
      "--  2000-01-01\n",
      "@ 長度:\n",
      "--  119分鐘\n",
      "@ 導演:\n",
      "@ 製作商:\n",
      "++  プレステージ\n",
      "@ 發行商:\n",
      "++  GUILTY\n",
      "@ 系列:\n",
      "++  狂乱アクメ\n",
      "# 類別:\n",
      "==  單體作品\n",
      "==  多P\n",
      "==  拘束\n",
      "==  按摩棒\n",
      "# 演員:\n",
      "==  東野愛鈴\n",
      "[['番號:', 'gyd-049\\xa0/\\xa0有碼'], ['發行日期:', '2000-01-01'], ['長度:', '119分鐘'], ['導演:', ''], ['製作商:', 'プレステージ'], ['發行商:', 'GUILTY'], ['系列:', '狂乱アクメ'], ['類別:', ['單體作品', '多P', '拘束', '按摩棒']], ['演員:', ['東野愛鈴']]]\n",
      "GYD-049\n"
     ]
    }
   ],
   "source": [
    "from bs4 import NavigableString, Tag\n",
    "\n",
    "dics = {} # key: ID, value {pair}\n",
    "\n",
    "item = c[0].find('p')\n",
    "count = 0\n",
    "\n",
    "key = 0\n",
    "value =[]\n",
    "\n",
    "while item and count < 20:\n",
    "#    print (\"111\", item)\n",
    "    if not item.has_attr('class'):\n",
    "        if item.contents[0].has_attr('class') and item.contents[0]['class'] == ['header']:\n",
    "            print(\"@\", item.contents[0].get_text())  # output header name\n",
    "            header = item.contents[0].get_text()\n",
    "            if (len(item) == 2):\n",
    "                if isinstance(item.contents[1], NavigableString):\n",
    "                    print(\"-- \", item.contents[1])     # output text inside p\n",
    "                    body = item.contents[1]\n",
    "                else:\n",
    "                    print(\"++ \", item.contents[1].get_text())\n",
    "                    body = item.contents[1].get_text()\n",
    "            else:\n",
    "                body = \"\"\n",
    "            value.append([header, body])\n",
    "            item = item.find_next_sibling('p')\n",
    "            count += 1\n",
    "    else:\n",
    "        print(\"#\", item.get_text()) # output header name\n",
    "        header = item.get_text()\n",
    "        body = []\n",
    "        item = item.find_next_sibling('p')\n",
    "        if (item.contents[0]['class'] == ['genre']):\n",
    "             for child in item.contents[0]:\n",
    "                print(\"== \", child.get_text())\n",
    "                body.append(child.get_text())\n",
    "        item = item.find_next_sibling('p')\n",
    "        value.append([header, body])\n",
    "\n",
    "\n",
    "print(value)\n",
    "\n",
    "ID = [x[1].split() for x in value if x[0] == \"番號:\"][0][0].upper()\n",
    "print(ID)\n"
   ]
  },
  {
   "cell_type": "code",
   "execution_count": 80,
   "metadata": {
    "collapsed": false
   },
   "outputs": [
    {
     "name": "stdout",
     "output_type": "stream",
     "text": [
      "番號:\n",
      "gyd-049 / 有碼\n",
      "---\n",
      "發行日期:\n",
      "2000-01-01\n",
      "---\n",
      "長度:\n",
      "119分鐘\n",
      "---\n",
      "導演:\n",
      "---\n",
      "製作商:\n",
      "プレステージ\n",
      "---\n",
      "發行商:\n",
      "GUILTY\n",
      "---\n",
      "系列:\n",
      "狂乱アクメ\n",
      "---\n",
      "類別:\n",
      "---\n",
      "單體作品\n",
      "多P\n",
      "拘束\n",
      "按摩棒\n",
      "---\n",
      "演員:\n",
      "---\n",
      "東野愛鈴\n",
      "---\n",
      "\n",
      "\n",
      "\n"
     ]
    }
   ],
   "source": [
    "from bs4 import NavigableString, Tag\n",
    "\n",
    "for x in c[0].find_all(\"p\"):\n",
    "    if not x.has_attr('class'):\n",
    "        if x.contents[0]['class'] == ['header']:\n",
    "            print(x.contents[0].get_text())\n",
    "            if (len(x) == 2):\n",
    "                if isinstance(x.contents[1], NavigableString):\n",
    "                    print(x.contents[1])\n",
    "                else:\n",
    "                    print(x.contents[1].get_text())\n",
    "\n",
    "        elif x.contents[0]['class'] == ['genre']:\n",
    "            for item in x.contents[0]:\n",
    "                print(item.get_text())\n",
    "        else:\n",
    "            raise Exception(\"unknown item\")\n",
    "            \n",
    "    elif x['class'] == ['header']:\n",
    "        print(x.get_text())\n",
    "    else:\n",
    "        raise Exception(\"unknown p\")\n",
    "\n",
    "        \n",
    "    \n",
    "    print(\"---\")\n",
    "\n",
    "print(\"\\n\\n\")"
   ]
  },
  {
   "cell_type": "code",
   "execution_count": null,
   "metadata": {
    "collapsed": true
   },
   "outputs": [],
   "source": []
  }
 ],
 "metadata": {
  "kernelspec": {
   "display_name": "Python 3",
   "language": "python",
   "name": "python3"
  }
 },
 "nbformat": 4,
 "nbformat_minor": 2
}
