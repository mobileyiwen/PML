{
 "cells": [
  {
   "cell_type": "code",
   "execution_count": 12,
   "metadata": {},
   "outputs": [],
   "source": [
    "from bs4 import BeautifulSoup\n",
    "from bs4 import NavigableString, Tag\n",
    "\n",
    "import requests\n",
    "import json\n",
    "import os\n",
    "\n",
    "def getInfoDicFromJavhoo(bsSoup):\n",
    "    valueDic ={}\n",
    "\n",
    "    coverPath = bsSoup.find(\"img\", class_=\"alignnone size-full\")['src']\n",
    "    fullTitle = bsSoup.find(\"h1\", class_=\"h3-size entry-title\").get_text()\n",
    "    title = fullTitle[fullTitle.find(' ')+1:] \n",
    "    ID = fullTitle[0:fullTitle.find(' ')]\n",
    "    valueDic['封面圖'] = coverPath\n",
    "    valueDic['標題'] = title\n",
    "    valueDic['序號'] = ID\n",
    "    \n",
    "    pInfo = bsSoup.find(\"div\", class_=\"project_info\")  \n",
    "    p = pInfo.find('p')\n",
    "\n",
    "    while p:\n",
    "        if not p.has_attr('class'):      # most p does not have class\n",
    "            if p.contents[0].has_attr('class') and p.contents[0]['class'] == ['header']:\n",
    "                header = p.contents[0].get_text().strip(' :')\n",
    "                if (len(p) == 2):\n",
    "                    if isinstance(p.contents[1], NavigableString):\n",
    "                        body = p.contents[1]\n",
    "                    else:\n",
    "                        body = p.contents[1].get_text()\n",
    "                else:\n",
    "                    body = \"\"\n",
    "                valueDic[header] = body\n",
    "                p = p.find_next_sibling('p')\n",
    "        else:\n",
    "            header = p.get_text().strip(' :')\n",
    "            body = []\n",
    "            p = p.find_next_sibling('p')\n",
    "            if (p.contents[0]['class'] == ['genre']):\n",
    "                 for child in p.contents[0]:\n",
    "                    body.append(child.get_text())\n",
    "            p = p.find_next_sibling('p')\n",
    "            valueDic[header] = body\n",
    "\n",
    "    valueDic['網站'] = 'Javhoo'\n",
    "    return valueDic\n",
    "\n",
    "\n",
    "def getDicFromJavhoo(avID):\n",
    "    url = \"https://www.javhoo.com/av/\" + avID.lower()\n",
    "    r = requests.get(url)\n",
    "    if r.status_code == 404:\n",
    "        return {}\n",
    "    data = r.text\n",
    "    soup = BeautifulSoup(data, \"lxml\")\n",
    "    return getInfoDicFromJavhoo(soup)\n",
    "\n",
    "\n",
    "\n",
    "def getInfoDicFromJavBus(bsSoup):\n",
    "    valueDic ={}\n",
    "\n",
    "    coverPath = bsSoup.find(\"a\", {'class': \"bigImage\"}).find('img')['src']\n",
    "    fullTitle = bsSoup.find(\"div\", {'class': \"container\"}).find('h3').get_text()\n",
    "    title = fullTitle[fullTitle.find(' ')+1:]  # title might contains actress name, need to remove it later\n",
    "    ID = fullTitle[0:fullTitle.find(' ')]\n",
    "    valueDic['封面圖'] = coverPath\n",
    "    valueDic['標題'] = title\n",
    "    valueDic['序號'] = ID\n",
    "    \n",
    "    pInfo = bsSoup.find(\"div\", {'class': \"col-md-3 info\"})   \n",
    "    p = pInfo.find('p')\n",
    "\n",
    "    while p:\n",
    "        if not p.has_attr('class'):      # most p does not have class\n",
    "            if p.contents[0].has_attr('class') and p.contents[0]['class'] == ['header']:\n",
    "                header = p.contents[0].get_text().strip(' :\\n')\n",
    "#                print('header is: ', header)\n",
    "                if (len(p) == 2):\n",
    "                    if isinstance(p.contents[1], NavigableString):\n",
    "                        body = p.contents[1]\n",
    "                    else:\n",
    "                        body = p.contents[1].get_text()\n",
    "                elif (len(p) == 3):\n",
    "                    body = p.contents[2].get_text() # try&error, the last element contains data\n",
    "                else:\n",
    "                    body = \"\"\n",
    "#                print('body is: ', body)\n",
    "                valueDic[header] = body.strip(' :\\n')\n",
    "                p = p.find_next_sibling('p')\n",
    "        elif p.has_attr('class') and p['class'] == ['header']:\n",
    "            header = p.get_text().strip(' :\\n')\n",
    "#            print('header2 is: ', header)\n",
    "            body = [] \n",
    "            p = p.find_next_sibling('p')\n",
    "            for item in p:\n",
    "                if not isinstance(item, NavigableString) and item.has_attr('class') and item['class'] == ['genre']:\n",
    "                    body.append(item.get_text().strip(' :\\n'))           \n",
    "#            print('body2 is: ', body)\n",
    "            valueDic[header] = body\n",
    "            p = p.find_next_sibling('p')            \n",
    "        elif p.has_attr('class') and p['class'] == ['star-show']:\n",
    "            header = p.get_text().strip(' :\\n')\n",
    "#            print('header3 is: ', header)\n",
    "            body = [] \n",
    "            p = p.find_next_sibling('p')\n",
    "            for item in p:            \n",
    "                if not isinstance(item, NavigableString) and item.has_attr('class') and item['class'] == ['genre']:\n",
    "                    body.append(item.get_text().strip(' :\\n'))\n",
    "            p = p.find_next_sibling('p')  \n",
    "#            print('body3 is: ', body)\n",
    "            valueDic[header] = body\n",
    "\n",
    "    valueDic['網站'] = 'JavBus'\n",
    "    return valueDic\n",
    "\n",
    "\n",
    "def getDicFromJavBus(avID):\n",
    "    url = \"https://www.javbus.com/\" + avID.upper()\n",
    "    r = requests.get(url)\n",
    "    if r.status_code == 404:\n",
    "        return {}\n",
    "    data = r.text\n",
    "    soup = BeautifulSoup(data, \"lxml\")\n",
    "    return getInfoDicFromJavBus(soup)\n",
    "\n",
    "\n",
    "\n",
    "\n",
    "\n",
    "\n",
    "def downloadImage(webPath, avID):\n",
    "    ext = webPath[webPath.rfind('.'):]\n",
    "    filename = localFolder + '/' + avID + ext\n",
    "    r = requests.get(webPath, stream=True)\n",
    "    if r.status_code == 200:\n",
    "        with open(filename, 'wb') as f:\n",
    "            for chunk in r.iter_content(1024):\n",
    "                f.write(chunk)  \n",
    "\n",
    "def dumpDic2Json(valueDic):\n",
    "    ID = valueDic['序號']\n",
    "    filename = localFolder + '/' + ID +'.json'\n",
    "    f = open(filename, \"w\")\n",
    "    json.dump(valueDic, f)\n",
    "    f.close()\n",
    "    \n",
    "def loadDicFromJson(avID):\n",
    "    filename = localFolder + '/' + avID +'.json'    \n",
    "    f = open(filename, 'r')\n",
    "    valueDic = json.load(f)\n",
    "    f.close()\n",
    "    return valueDic\n",
    "    \n",
    "def checkAvIdExist(avID):\n",
    "    filename = localFolder + '/' + avID +'.json'\n",
    "    if os.path.exists(filename):\n",
    "        return True\n",
    "    return False\n",
    "\n",
    "def checkAvIdImgExist(avID):\n",
    "    jpg = localFolder + '/' + avID +'.jpg'\n",
    "    png = localFolder + '/' + avID +'.png'\n",
    "    if os.path.exists(jpg) or os.path.exists(png):\n",
    "        return True\n",
    "    return False\n",
    "\n",
    "\n",
    "def completeAvID(avID, showInfo = False):\n",
    "    vDic = {}\n",
    "    #AvId status, 1 not download before, 2 not exist on Javhoo, 3 downloaded\n",
    "    if not checkAvIdExist(avID):\n",
    "        vDic = getDicFromJavhoo(avID)\n",
    "        if (len(vDic) == 0):\n",
    "            vDic = getDicFromJavBus(avID)\n",
    "            if (len(vDic) == 0):\n",
    "                return False;\n",
    "        if vDic['ID'].lower() != avID.lower():\n",
    "            raise ValueError('ID got and given not equal', vDic['ID'].lower(), avID.lower())\n",
    "        dumpDic2Json(vDic)\n",
    "        if showInfo:\n",
    "            print(\"Downloaded \", avID)\n",
    "    else:\n",
    "        vDic = loadDicFromJson(avID)\n",
    "\n",
    "    # check if img exist, otherwise download img\n",
    "    if not checkAvIdImgExist(avID):\n",
    "        downloadImage(vDic['封面圖'], avID)\n",
    "        if showInfo:\n",
    "            print(\"Img Downloaded\", avID)\n",
    "            \n",
    "    return True\n",
    "\n",
    "\n",
    "def dumpResult2Json(avIDResult):\n",
    "    filename = 'avIDResult.json'\n",
    "    f = open(filename, \"w\")\n",
    "    json.dump(avIDResult, f)\n",
    "    f.close()\n",
    "    \n",
    "def loadResultFromJson():\n",
    "    filename = 'avIDResult.json'    \n",
    "    f = open(filename, 'r')\n",
    "    avIDResult = json.load(f)\n",
    "    f.close()\n",
    "    return avIDResult\n",
    "\n",
    "def countAVResult(avIDResult):\n",
    "    count0 = 0\n",
    "    count404 = 0\n",
    "    count200 = 0\n",
    "    for key, value in avIDResult.items():\n",
    "        if value[0] == 0:\n",
    "            count0+=1\n",
    "        elif value[0] == 200:\n",
    "            count200+=1\n",
    "        elif value[0] == 404:\n",
    "            count404+=1\n",
    "    print(\"AVIDResult: 0~\", count0, \" 200~\", count200, \" 404~\", count404)\n",
    "\n",
    "from itertools import islice\n",
    "from random import randint\n",
    "import time\n",
    "import random\n",
    "\n",
    "def randomGet(avIDResult, count):\n",
    "    try_batch = list(islice(avIDResult.items(), len(avIDResult)))\n",
    "    c_200 = 0\n",
    "    c_404 = 0\n",
    "    c_999 = 0\n",
    "\n",
    "    x = [randint(0, len(avIDResult)) for p in range(0, count)]\n",
    "\n",
    "    for i in x:\n",
    "        item = try_batch[i]\n",
    "        t = 0\n",
    "        if item[1][0] == 0:    # not get from web before\n",
    "            result = completeAvID(item[0])\n",
    "            if result:\n",
    "                item[1][0] = 200\n",
    "                c_200+=1\n",
    "                print(\"---- {0: <10} downloaded,    \".format(item[0]), end='')\n",
    "                t = random.uniform(0.5, 5.0)             \n",
    "            else:\n",
    "                item[1][0] = 404\n",
    "                c_404+=1\n",
    "                print(\"@@@@ {0: <10} not on Javhoo, \".format(item[0]), end='')\n",
    "                t = random.uniform(0.5, 1.0)                   \n",
    "        else:\n",
    "            print(\"!!!! {0: <10} already there, \".format(item[0]), end='')\n",
    "            c_999+=1\n",
    "        print(\"pause {0:.2f} seconds...\".format(t))\n",
    "        time.sleep(t)\n",
    "    print(\"$$$$$ Batch for {0} items, {1} [200], {2} [404], {3} [already].\".format(count, c_200, c_404, c_999))\n",
    "        \n",
    "    \n",
    "localFolder = '/Users/yiwenliu/Desktop/Projects/AV'"
   ]
  },
  {
   "cell_type": "code",
   "execution_count": 3,
   "metadata": {
    "collapsed": true
   },
   "outputs": [],
   "source": [
    "avIDResult = loadResultFromJson()"
   ]
  },
  {
   "cell_type": "code",
   "execution_count": null,
   "metadata": {
    "collapsed": true
   },
   "outputs": [],
   "source": []
  },
  {
   "cell_type": "code",
   "execution_count": null,
   "metadata": {
    "collapsed": true
   },
   "outputs": [],
   "source": [
    "start_time = time.time()\n",
    "for i in range(5):\n",
    "    randomGet(avIDResult, 10)\n",
    "    dumpResult2Json(avIDResult)\n",
    "countAVResult(avIDResult)\n",
    "elapsed_time = time.time() - start_time\n",
    "print(\"Time consumed: {0:.2f} secs\".format(elapsed_time))"
   ]
  },
  {
   "cell_type": "code",
   "execution_count": 4,
   "metadata": {},
   "outputs": [
    {
     "name": "stdout",
     "output_type": "stream",
     "text": [
      "AVIDResult: 0~ 4989  200~ 711  404~ 232\n"
     ]
    }
   ],
   "source": [
    "countAVResult(avIDResult)"
   ]
  },
  {
   "cell_type": "code",
   "execution_count": 5,
   "metadata": {},
   "outputs": [
    {
     "name": "stdout",
     "output_type": "stream",
     "text": [
      "@@@@ XV-700     not on Javhoo, pause 0.98 seconds...\n",
      "---- CETD-230   downloaded,    pause 1.57 seconds...\n",
      "$$$$$ Batch for 2 items, 1 [200], 1 [404], 0 [already].\n"
     ]
    }
   ],
   "source": [
    "randomGet(avIDResult, 2)"
   ]
  },
  {
   "cell_type": "code",
   "execution_count": 7,
   "metadata": {},
   "outputs": [],
   "source": [
    "vDic = loadDicFromJson(\"CETD-230\")"
   ]
  },
  {
   "cell_type": "code",
   "execution_count": 8,
   "metadata": {},
   "outputs": [
    {
     "data": {
      "text/plain": [
       "{'封面圖': 'https://pics.javhoo.net/cover/en/4kdv_b.jpg',\n",
       " '導演': '匠野透',\n",
       " '序號': 'CETD-230',\n",
       " '標題': '私痴漢バスに乗ります。3 ワイセツな指先が清楚な若妻の理性を崩す…夫同伴のバス車内で痴漢に犯される人妻 愛乃ゆな',\n",
       " '演員': ['愛乃ゆな'],\n",
       " '番號': 'cetd-230\\xa0/\\xa0有碼',\n",
       " '發行商': 'セレブの友',\n",
       " '發行日期': '2014-12-13',\n",
       " '系列': '私痴漢バスに乗ります。',\n",
       " '製作商': 'セレブの友',\n",
       " '長度': '124分鐘',\n",
       " '類別': ['DMM獨家', '單體作品', '已婚婦女', '性騷擾', '戲劇', '新娘，年輕妻子']}"
      ]
     },
     "execution_count": 8,
     "metadata": {},
     "output_type": "execute_result"
    }
   ],
   "source": [
    "vDic"
   ]
  },
  {
   "cell_type": "code",
   "execution_count": 9,
   "metadata": {},
   "outputs": [
    {
     "data": {
      "text/plain": [
       "True"
      ]
     },
     "execution_count": 9,
     "metadata": {},
     "output_type": "execute_result"
    }
   ],
   "source": [
    "completeAvID(\"ABP-612\")"
   ]
  },
  {
   "cell_type": "code",
   "execution_count": 10,
   "metadata": {
    "collapsed": true
   },
   "outputs": [],
   "source": [
    "vDic = loadDicFromJson(\"ABP-612\")"
   ]
  },
  {
   "cell_type": "code",
   "execution_count": 11,
   "metadata": {},
   "outputs": [
    {
     "data": {
      "text/plain": [
       "{'封面圖': 'https://pics.javhoo.net/2017/07/cover/ABP-612.jpg',\n",
       " '導演': 'マンハッタン木村',\n",
       " '序號': 'ABP-612',\n",
       " '標題': '人生初・トランス状態 激イキ絶頂セックス 39 愛音まりあ',\n",
       " '演員': ['愛音まりあ'],\n",
       " '番號': 'abp-612\\xa0/\\xa0有碼',\n",
       " '發行商': 'ABSOLUTELY PERFECT',\n",
       " '發行日期': '2017-07-07',\n",
       " '系列': '人生初・トランス狀態 激イキ絶頂セックス',\n",
       " '製作商': 'プレステージ',\n",
       " '長度': '174分鐘',\n",
       " '類別': ['口交', '單體作品', '子宮頸', '無毛', '玩具', '高畫質']}"
      ]
     },
     "execution_count": 11,
     "metadata": {},
     "output_type": "execute_result"
    }
   ],
   "source": [
    "vDic"
   ]
  },
  {
   "cell_type": "code",
   "execution_count": null,
   "metadata": {
    "collapsed": true
   },
   "outputs": [],
   "source": []
  }
 ],
 "metadata": {
  "kernelspec": {
   "display_name": "Python 3",
   "language": "python",
   "name": "python3"
  },
  "language_info": {
   "codemirror_mode": {
    "name": "ipython",
    "version": 3
   },
   "file_extension": ".py",
   "mimetype": "text/x-python",
   "name": "python",
   "nbconvert_exporter": "python",
   "pygments_lexer": "ipython3",
   "version": "3.6.0"
  }
 },
 "nbformat": 4,
 "nbformat_minor": 2
}
